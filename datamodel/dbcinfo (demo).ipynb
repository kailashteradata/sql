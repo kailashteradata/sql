{
 "cells": [
  {
   "cell_type": "markdown",
   "metadata": {},
   "source": [
    "# Deploy COA Objects in Transcend:   DBInfo (Demo Project)"
   ]
  },
  {
   "cell_type": "code",
   "execution_count": null,
   "metadata": {},
   "outputs": [],
   "source": [
    "%addconnect name=Transcend, user=sh186014, host=tdprdcop3.td.teradata.com, props=\"LOGMECH=LDAP\""
   ]
  },
  {
   "cell_type": "code",
   "execution_count": 3,
   "metadata": {},
   "outputs": [
    {
     "name": "stdin",
     "output_type": "stream",
     "text": [
      "Password ············\n"
     ]
    },
    {
     "name": "stdout",
     "output_type": "stream",
     "text": [
      "Success: 'Transcend' connection established\n"
     ]
    }
   ],
   "source": [
    "%connect name=Transcend"
   ]
  },
  {
   "cell_type": "code",
   "execution_count": 5,
   "metadata": {},
   "outputs": [
    {
     "data": {
      "text/plain": [
       "Success: 0 rows affected"
      ]
     },
     "execution_count": 5,
     "metadata": {
      "application/vnd.teradata.resultset": ""
     },
     "output_type": "execute_result"
    },
    {
     "data": {
      "application/vnd.teradata.resultset": "[{\"DatabaseName\":\"ADLSTE_COA\",\"ObjFunction\":\"dat\",\"ObjType\":\"coa\",\"ProcessName\":\"dbcinfo\",\"TableKind\":\"V \",\"TableName\":\"coa_dat_dbcinfo\"},{\"DatabaseName\":\"ADLSTE_COA\",\"ObjFunction\":\"dat\",\"ObjType\":\"coat\",\"ProcessName\":\"dbcinfo\",\"TableKind\":\"T \",\"TableName\":\"coat_dat_dbcinfo\"},{\"DatabaseName\":\"ADLSTE_COA\",\"ObjFunction\":\"dat\",\"ObjType\":\"sp\",\"ProcessName\":\"dbcinfo\",\"TableKind\":\"P \",\"TableName\":\"sp_dat_dbcinfo\"},{\"DatabaseName\":\"ADLSTE_COA\",\"ObjFunction\":\"dat\",\"ObjType\":\"stg\",\"ProcessName\":\"dbcinfo\",\"TableKind\":\"O \",\"TableName\":\"stg_dat_dbcinfo\"},{\"DatabaseName\":\"ADLSTE_COA_Stg\",\"ObjFunction\":\"dat\",\"ObjType\":\"stg\",\"ProcessName\":\"dbcinfo\",\"TableKind\":\"O \",\"TableName\":\"stg_dat_dbcinfo\"}]\n",
      "text/html": [
       "<div class = \"td-resultset-table-div\" style = \"max-height: 157px; overflow-y: auto\"><style> table {border: 1px solid rgb(207, 207, 207) !important; border-collapse: collapse !important; margin-top: 1px !important;} th {border: 1px solid rgb(198,198,198) !important; border-collapse: collapse !important; padding: 2px 5px !important; font-size: 13px !important; min-width:150px !important; max-width: 150px !important; white-space: nowrap !important; overflow:hidden !important; text-overflow:ellipsis !important;} tr:nth-child(even) {background: rgba(243, 243, 243, 0.75) !important;} td {border: 1px solid rgb(207, 207, 207) !important; border-collapse: collapse !important; padding: 2px 5px !important; font-size: 13px !important; min-width:150px !important; max-width: 150px !important; white-space: nowrap !important; overflow:hidden !important; text-overflow:ellipsis !important;}</style><table><thead><tr style= \"background: #efefef;\"><th>DatabaseName</th><th>TableName</th><th>TableKind</th><th>ObjType</th><th>ObjFunction</th><th>ProcessName</th></tr></thead><tr><td>ADLSTE_COA</td><td>coa_dat_dbcinfo</td><td>V </td><td>coa</td><td>dat</td><td>dbcinfo</td></tr><tr><td>ADLSTE_COA</td><td>coat_dat_dbcinfo</td><td>T </td><td>coat</td><td>dat</td><td>dbcinfo</td></tr><tr><td>ADLSTE_COA</td><td>sp_dat_dbcinfo</td><td>P </td><td>sp</td><td>dat</td><td>dbcinfo</td></tr><tr><td>ADLSTE_COA</td><td>stg_dat_dbcinfo</td><td>O </td><td>stg</td><td>dat</td><td>dbcinfo</td></tr><tr><td>ADLSTE_COA_Stg</td><td>stg_dat_dbcinfo</td><td>O </td><td>stg</td><td>dat</td><td>dbcinfo</td></tr></table></div>"
      ]
     },
     "execution_count": 5,
     "metadata": {
      "application/vnd.teradata.resultset": "{\"resultSetID\":\"/home/jovyan/JupyterLabRoot/Teradata/Resultsets/2020.05.06_23.47.17.276_UTC\",\"historyID\":463,\"chunkID\":\"00001\",\"sessionid\":\"\",\"portnum\":\"\",\"dockermode\":\"docker\",\"totalRowCount\":5,\"rowLimit\":0,\"columnMetadata\":[{\"columnName\":\"DatabaseName\",\"columnTypeName\":\"VARCHAR\",\"length\":128,\"scale\":128},{\"columnNumber\":1,\"columnName\":\"TableName\",\"columnTypeName\":\"VARCHAR\",\"length\":128,\"scale\":128},{\"columnNumber\":2,\"columnName\":\"TableKind\",\"columnTypeName\":\"CHAR\",\"length\":1,\"scale\":1},{\"columnNumber\":3,\"columnName\":\"ObjType\",\"columnTypeName\":\"VARCHAR\",\"length\":30,\"scale\":30},{\"columnNumber\":4,\"columnName\":\"ObjFunction\",\"columnTypeName\":\"VARCHAR\",\"length\":30,\"scale\":30},{\"columnNumber\":5,\"columnName\":\"ProcessName\",\"columnTypeName\":\"VARCHAR\",\"length\":30,\"scale\":30}]}"
     },
     "output_type": "execute_result"
    }
   ],
   "source": [
    "call adlste_coa.sp_meta_objects_refresh('DBCInfo') "
   ]
  },
  {
   "cell_type": "markdown",
   "metadata": {},
   "source": [
    "## Stage Object (adlste_coa_stg)"
   ]
  },
  {
   "cell_type": "code",
   "execution_count": 14,
   "metadata": {},
   "outputs": [
    {
     "data": {
      "text/plain": [
       "Success: 18 rows affected"
      ]
     },
     "execution_count": 14,
     "metadata": {
      "application/vnd.teradata.resultset": ""
     },
     "output_type": "execute_result"
    }
   ],
   "source": [
    "drop table adlste_coa_stg.stg_dat_dbcinfo;"
   ]
  },
  {
   "cell_type": "code",
   "execution_count": 15,
   "metadata": {},
   "outputs": [
    {
     "data": {
      "text/plain": [
       "Success: 0 rows affected"
      ]
     },
     "execution_count": 15,
     "metadata": {
      "application/vnd.teradata.resultset": ""
     },
     "output_type": "execute_result"
    }
   ],
   "source": [
    "CREATE MULTISET GLOBAL TEMPORARY TABLE adlste_coa_stg.stg_dat_DBCinfo\n",
    "( Account_Name   VARCHAR(128) CHARACTER SET LATIN NOT CASESPECIFIC\n",
    ", Site_ID        VARCHAR(128) CHARACTER SET LATIN NOT CASESPECIFIC\n",
    ", InfoKey        VARCHAR(128) CHARACTER SET LATIN NOT CASESPECIFIC\n",
    ", InfoData       VARCHAR(128) CHARACTER SET LATIN NOT CASESPECIFIC\n",
    ") NO PRIMARY INDEX \n",
    "ON COMMIT PRESERVE ROWS;"
   ]
  },
  {
   "cell_type": "code",
   "execution_count": 16,
   "metadata": {},
   "outputs": [
    {
     "data": {
      "application/vnd.teradata.resultset": "[{\"Count(*)\":\"0\"}]\n",
      "text/html": [
       "<div class = \"td-resultset-table-div\" style = \"max-height: 77px; overflow-y: auto\"><style> table {border: 1px solid rgb(207, 207, 207) !important; border-collapse: collapse !important; margin-top: 1px !important;} th {border: 1px solid rgb(198,198,198) !important; border-collapse: collapse !important; padding: 2px 5px !important; font-size: 13px !important; min-width:150px !important; max-width: 150px !important; white-space: nowrap !important; overflow:hidden !important; text-overflow:ellipsis !important;} tr:nth-child(even) {background: rgba(243, 243, 243, 0.75) !important;} td {border: 1px solid rgb(207, 207, 207) !important; border-collapse: collapse !important; padding: 2px 5px !important; font-size: 13px !important; min-width:150px !important; max-width: 150px !important; white-space: nowrap !important; overflow:hidden !important; text-overflow:ellipsis !important;}</style><table><thead><tr style= \"background: #efefef;\"><th>Count(*)</th></tr></thead><tr><td>0</td></tr></table></div>"
      ]
     },
     "execution_count": 16,
     "metadata": {
      "application/vnd.teradata.resultset": "{\"resultSetID\":\"/home/jovyan/JupyterLabRoot/Teradata/Resultsets/2020.05.06_23.58.39.071_UTC\",\"historyID\":474,\"chunkID\":\"00001\",\"sessionid\":\"\",\"portnum\":\"\",\"dockermode\":\"docker\",\"totalRowCount\":1,\"rowLimit\":0,\"columnMetadata\":[{\"columnName\":\"Count(*)\",\"columnTypeName\":\"INTEGER\"}]}"
     },
     "output_type": "execute_result"
    }
   ],
   "source": [
    "select count(*) from adlste_coa_stg.stg_dat_dbcinfo;"
   ]
  },
  {
   "cell_type": "markdown",
   "metadata": {},
   "source": [
    "## Target Table and View (adlste_coa)"
   ]
  },
  {
   "cell_type": "code",
   "execution_count": 18,
   "metadata": {},
   "outputs": [
    {
     "data": {
      "text/plain": [
       "Success: 27 rows affected"
      ]
     },
     "execution_count": 18,
     "metadata": {
      "application/vnd.teradata.resultset": ""
     },
     "output_type": "execute_result"
    }
   ],
   "source": [
    "DROP TABLE adlste_coa.coat_dat_DBCinfo;"
   ]
  },
  {
   "cell_type": "code",
   "execution_count": 20,
   "metadata": {},
   "outputs": [
    {
     "data": {
      "text/plain": [
       "Success: 0 rows affected"
      ]
     },
     "execution_count": 20,
     "metadata": {
      "application/vnd.teradata.resultset": ""
     },
     "output_type": "execute_result"
    }
   ],
   "source": [
    "CREATE MULTISET TABLE adlste_coa.coat_dat_DBCinfo\n",
    "( Account_Name   VARCHAR(128) CHARACTER SET LATIN NOT CASESPECIFIC\n",
    ", Site_ID        VARCHAR(128) CHARACTER SET LATIN NOT CASESPECIFIC\n",
    ", LogDate        DATE Default Current_Date\n",
    ", InfoKey        VARCHAR(128) CHARACTER SET LATIN NOT CASESPECIFIC\n",
    ", InfoData       VARCHAR(128) CHARACTER SET LATIN NOT CASESPECIFIC\n",
    ") Primary Index(Site_ID, LogDate);"
   ]
  },
  {
   "cell_type": "code",
   "execution_count": 21,
   "metadata": {},
   "outputs": [
    {
     "data": {
      "text/plain": [
       "Success: 9 rows affected"
      ]
     },
     "execution_count": 21,
     "metadata": {
      "application/vnd.teradata.resultset": ""
     },
     "output_type": "execute_result"
    }
   ],
   "source": [
    "REPLACE VIEW adlste_coa.coa_dat_DBCinfo\n",
    "as locking row for access\n",
    "Select * from adlste_coa.coat_dat_DBCinfo;"
   ]
  },
  {
   "cell_type": "markdown",
   "metadata": {},
   "source": [
    "## Stored Proc to manage the merge"
   ]
  },
  {
   "cell_type": "code",
   "execution_count": 24,
   "metadata": {},
   "outputs": [
    {
     "data": {
      "application/vnd.teradata.resultset": "[{\"RequestText\":\"REPLACE PROCEDURE adlste_coa.\"},{\"RequestText\":\"sp_dat_dbcinfo\"},{\"RequestText\":\" ( fileset_version VARCHAR(128) ) \\rSQL SECURITY CREATOR\\rBEGIN \\r  --call sp_audit_Account_Name ('adlste_coa.stg_dat_dbcinfo', 'sp_dat_dbcinfo', '{}'); \\r  --call sp_audit_Site_ID ('adlste_coa.stg_dat_dbcinfo', 'sp_dat_dbcinfo', '{}'); \\r\\r\\r  DELETE FROM adlste_coa.coat_dat_dbcinfo WHERE (Site_ID, LogDate) IN\\r   (Select Site_ID, LogDate From adlste_coa_stg.stg_dat_dbcinfo );\\r\\r  \\r  Insert into adlste_coa.coat_dat_dbcinfo \\r  Select Account_Name, Site_ID, Current_Date as LogDate, InfoKey, InfoData \\r  from adlste_coa_stg.stg_dat_dbcinfo; \\r\\rEND;\"}]\n",
      "text/html": [
       "<div class = \"td-resultset-table-div\" style = \"max-height: 117px; overflow-y: auto\"><style> table {border: 1px solid rgb(207, 207, 207) !important; border-collapse: collapse !important; margin-top: 1px !important;} th {border: 1px solid rgb(198,198,198) !important; border-collapse: collapse !important; padding: 2px 5px !important; font-size: 13px !important; min-width:150px !important; max-width: 150px !important; white-space: nowrap !important; overflow:hidden !important; text-overflow:ellipsis !important;} tr:nth-child(even) {background: rgba(243, 243, 243, 0.75) !important;} td {border: 1px solid rgb(207, 207, 207) !important; border-collapse: collapse !important; padding: 2px 5px !important; font-size: 13px !important; min-width:150px !important; max-width: 150px !important; white-space: nowrap !important; overflow:hidden !important; text-overflow:ellipsis !important;}</style><table><thead><tr style= \"background: #efefef;\"><th>RequestText</th></tr></thead><tr><td>REPLACE PROCEDURE adlste_coa.</td></tr><tr><td>sp_dat_dbcinfo</td></tr><tr><td> ( fileset_version VARCHAR(128) ) \r",
       "SQL SECURITY CREATOR\r",
       "BEGIN \r",
       "  --call sp_audit_Account_Name ('adlste_coa.stg_dat_dbcinfo', 'sp_dat_dbcinfo', '{}'); \r",
       "  --</td></tr></table></div>"
      ]
     },
     "execution_count": 24,
     "metadata": {
      "application/vnd.teradata.resultset": "{\"resultSetID\":\"/home/jovyan/JupyterLabRoot/Teradata/Resultsets/2020.05.07_00.08.05.372_UTC\",\"historyID\":482,\"chunkID\":\"00001\",\"sessionid\":\"\",\"portnum\":\"\",\"dockermode\":\"docker\",\"totalRowCount\":3,\"rowLimit\":0,\"columnMetadata\":[{\"columnName\":\"RequestText\",\"columnTypeName\":\"VARCHAR\",\"length\":20000,\"scale\":20000}]}"
     },
     "output_type": "execute_result"
    }
   ],
   "source": [
    "show procedure adlste_coa.sp_dat_DBCinfo"
   ]
  },
  {
   "cell_type": "code",
   "execution_count": 40,
   "metadata": {},
   "outputs": [
    {
     "data": {
      "text/plain": [
       "Success: 0 rows affected"
      ]
     },
     "execution_count": 40,
     "metadata": {
      "application/vnd.teradata.resultset": ""
     },
     "output_type": "execute_result"
    }
   ],
   "source": [
    "REPLACE PROCEDURE adlste_coa.sp_dat_dbcinfo ( fileset_version VARCHAR(128) ) \n",
    "SQL SECURITY CREATOR\n",
    "BEGIN \n",
    "  --call sp_audit_Account_Name ('adlste_coa.stg_dat_dbcinfo', 'sp_dat_dbcinfo', '{}'); \n",
    "  --call sp_audit_Site_ID ('adlste_coa.stg_dat_dbcinfo', 'sp_dat_dbcinfo', '{}'); \n",
    "\n",
    "\n",
    "  DELETE FROM adlste_coa.coat_dat_dbcinfo WHERE (Site_ID, LogDate) IN\n",
    "   (Select Site_ID, Current_Date From adlste_coa_stg.stg_dat_dbcinfo );\n",
    "  \n",
    "  Insert into adlste_coa.coat_dat_dbcinfo \n",
    "  Select Account_Name, Site_ID, Current_Date as LogDate, InfoKey, InfoData \n",
    "  from adlste_coa_stg.stg_dat_dbcinfo\n",
    "  group  by 1,2,3,4,5; \n",
    "\n",
    "END;"
   ]
  },
  {
   "cell_type": "code",
   "execution_count": 41,
   "metadata": {},
   "outputs": [
    {
     "data": {
      "text/plain": [
       "Success: 0 rows affected"
      ]
     },
     "execution_count": 41,
     "metadata": {
      "application/vnd.teradata.resultset": ""
     },
     "output_type": "execute_result"
    }
   ],
   "source": [
    "call adlste_coa.sp_dat_dbcinfo('1.1')"
   ]
  },
  {
   "cell_type": "markdown",
   "metadata": {},
   "source": [
    "## Test the Process"
   ]
  },
  {
   "cell_type": "code",
   "execution_count": 42,
   "metadata": {},
   "outputs": [
    {
     "data": {
      "text/plain": [
       "Success: 3 rows affected"
      ]
     },
     "execution_count": 42,
     "metadata": {
      "application/vnd.teradata.resultset": ""
     },
     "output_type": "execute_result"
    },
    {
     "data": {
      "application/vnd.teradata.resultset": "[{\"Account_Name\":\"Test_Account\",\"InfoData\":\"16.20.32.11\",\"InfoKey\":\"RELEASE\",\"Site_ID\":\"Test_SiteID\"},{\"Account_Name\":\"Test_Account\",\"InfoData\":\"16.20.32.11\",\"InfoKey\":\"VERSION\",\"Site_ID\":\"Test_SiteID\"},{\"Account_Name\":\"Test_Account\",\"InfoData\":\"Standard\",\"InfoKey\":\"LANGUAGE SUPPORT MODE\",\"Site_ID\":\"Test_SiteID\"},{\"Account_Name\":\"Test_Account\",\"InfoData\":\"16.20.32.11\",\"InfoKey\":\"RELEASE\",\"Site_ID\":\"Test_SiteID\"},{\"Account_Name\":\"Test_Account\",\"InfoData\":\"16.20.32.11\",\"InfoKey\":\"VERSION\",\"Site_ID\":\"Test_SiteID\"},{\"Account_Name\":\"Test_Account\",\"InfoData\":\"Standard\",\"InfoKey\":\"LANGUAGE SUPPORT MODE\",\"Site_ID\":\"Test_SiteID\"},{\"Account_Name\":\"Test_Account\",\"InfoData\":\"16.20.32.11\",\"InfoKey\":\"RELEASE\",\"Site_ID\":\"Test_SiteID\"},{\"Account_Name\":\"Test_Account\",\"InfoData\":\"16.20.32.11\",\"InfoKey\":\"VERSION\",\"Site_ID\":\"Test_SiteID\"},{\"Account_Name\":\"Test_Account\",\"InfoData\":\"Standard\",\"InfoKey\":\"LANGUAGE SUPPORT MODE\",\"Site_ID\":\"Test_SiteID\"}]\n",
      "text/html": [
       "<div class = \"td-resultset-table-div\" style = \"max-height: 237px; overflow-y: auto\"><style> table {border: 1px solid rgb(207, 207, 207) !important; border-collapse: collapse !important; margin-top: 1px !important;} th {border: 1px solid rgb(198,198,198) !important; border-collapse: collapse !important; padding: 2px 5px !important; font-size: 13px !important; min-width:150px !important; max-width: 150px !important; white-space: nowrap !important; overflow:hidden !important; text-overflow:ellipsis !important;} tr:nth-child(even) {background: rgba(243, 243, 243, 0.75) !important;} td {border: 1px solid rgb(207, 207, 207) !important; border-collapse: collapse !important; padding: 2px 5px !important; font-size: 13px !important; min-width:150px !important; max-width: 150px !important; white-space: nowrap !important; overflow:hidden !important; text-overflow:ellipsis !important;}</style><table><thead><tr style= \"background: #efefef;\"><th>Account_Name</th><th>Site_ID</th><th>InfoKey</th><th>InfoData</th></tr></thead><tr><td>Test_Account</td><td>Test_SiteID</td><td>RELEASE</td><td>16.20.32.11</td></tr><tr><td>Test_Account</td><td>Test_SiteID</td><td>VERSION</td><td>16.20.32.11</td></tr><tr><td>Test_Account</td><td>Test_SiteID</td><td>LANGUAGE SUPPORT MODE</td><td>Standard</td></tr><tr><td>Test_Account</td><td>Test_SiteID</td><td>RELEASE</td><td>16.20.32.11</td></tr><tr><td>Test_Account</td><td>Test_SiteID</td><td>VERSION</td><td>16.20.32.11</td></tr><tr><td>Test_Account</td><td>Test_SiteID</td><td>LANGUAGE SUPPORT MODE</td><td>Standard</td></tr><tr><td>Test_Account</td><td>Test_SiteID</td><td>RELEASE</td><td>16.20.32.11</td></tr><tr><td>Test_Account</td><td>Test_SiteID</td><td>VERSION</td><td>16.20.32.11</td></tr><tr><td>Test_Account</td><td>Test_SiteID</td><td>LANGUAGE SUPPORT MODE</td><td>Standard</td></tr></table></div>"
      ]
     },
     "execution_count": 42,
     "metadata": {
      "application/vnd.teradata.resultset": "{\"resultSetID\":\"/home/jovyan/JupyterLabRoot/Teradata/Resultsets/2020.05.07_00.13.25.752_UTC\",\"historyID\":500,\"chunkID\":\"00001\",\"sessionid\":\"\",\"portnum\":\"\",\"dockermode\":\"docker\",\"totalRowCount\":9,\"rowLimit\":0,\"columnMetadata\":[{\"columnName\":\"Account_Name\",\"columnTypeName\":\"VARCHAR\",\"length\":128,\"scale\":128},{\"columnNumber\":1,\"columnName\":\"Site_ID\",\"columnTypeName\":\"VARCHAR\",\"length\":128,\"scale\":128},{\"columnNumber\":2,\"columnName\":\"InfoKey\",\"columnTypeName\":\"VARCHAR\",\"length\":128,\"scale\":128},{\"columnNumber\":3,\"columnName\":\"InfoData\",\"columnTypeName\":\"VARCHAR\",\"length\":128,\"scale\":128}]}"
     },
     "output_type": "execute_result"
    }
   ],
   "source": [
    "insert into adlste_coa_stg.stg_dat_dbcinfo \n",
    "Select 'Test_Account',  'Test_SiteID', InfoKey, InfoData from dbc.dbcinfo;\n",
    "\n",
    "Select * from adlste_coa_stg.stg_dat_dbcinfo "
   ]
  },
  {
   "cell_type": "code",
   "execution_count": 43,
   "metadata": {},
   "outputs": [
    {
     "data": {
      "text/plain": [
       "Success: 0 rows affected"
      ]
     },
     "execution_count": 43,
     "metadata": {
      "application/vnd.teradata.resultset": ""
     },
     "output_type": "execute_result"
    }
   ],
   "source": [
    "call adlste_coa.sp_dat_dbcinfo('1.1');"
   ]
  },
  {
   "cell_type": "code",
   "execution_count": 44,
   "metadata": {},
   "outputs": [
    {
     "data": {
      "application/vnd.teradata.resultset": "[{\"Account_Name\":\"Test_Account\",\"InfoData\":\"Standard\",\"InfoKey\":\"LANGUAGE SUPPORT MODE\",\"LogDate\":\"2020-05-06\",\"Site_ID\":\"Test_SiteID\"},{\"Account_Name\":\"Test_Account\",\"InfoData\":\"16.20.32.11\",\"InfoKey\":\"RELEASE\",\"LogDate\":\"2020-05-06\",\"Site_ID\":\"Test_SiteID\"},{\"Account_Name\":\"Test_Account\",\"InfoData\":\"16.20.32.11\",\"InfoKey\":\"VERSION\",\"LogDate\":\"2020-05-06\",\"Site_ID\":\"Test_SiteID\"}]\n",
      "text/html": [
       "<div class = \"td-resultset-table-div\" style = \"max-height: 117px; overflow-y: auto\"><style> table {border: 1px solid rgb(207, 207, 207) !important; border-collapse: collapse !important; margin-top: 1px !important;} th {border: 1px solid rgb(198,198,198) !important; border-collapse: collapse !important; padding: 2px 5px !important; font-size: 13px !important; min-width:150px !important; max-width: 150px !important; white-space: nowrap !important; overflow:hidden !important; text-overflow:ellipsis !important;} tr:nth-child(even) {background: rgba(243, 243, 243, 0.75) !important;} td {border: 1px solid rgb(207, 207, 207) !important; border-collapse: collapse !important; padding: 2px 5px !important; font-size: 13px !important; min-width:150px !important; max-width: 150px !important; white-space: nowrap !important; overflow:hidden !important; text-overflow:ellipsis !important;}</style><table><thead><tr style= \"background: #efefef;\"><th>Account_Name</th><th>Site_ID</th><th>LogDate</th><th>InfoKey</th><th>InfoData</th></tr></thead><tr><td>Test_Account</td><td>Test_SiteID</td><td>2020-05-06</td><td>LANGUAGE SUPPORT MODE</td><td>Standard</td></tr><tr><td>Test_Account</td><td>Test_SiteID</td><td>2020-05-06</td><td>RELEASE</td><td>16.20.32.11</td></tr><tr><td>Test_Account</td><td>Test_SiteID</td><td>2020-05-06</td><td>VERSION</td><td>16.20.32.11</td></tr></table></div>"
      ]
     },
     "execution_count": 44,
     "metadata": {
      "application/vnd.teradata.resultset": "{\"resultSetID\":\"/home/jovyan/JupyterLabRoot/Teradata/Resultsets/2020.05.07_00.13.30.718_UTC\",\"historyID\":502,\"chunkID\":\"00001\",\"sessionid\":\"\",\"portnum\":\"\",\"dockermode\":\"docker\",\"totalRowCount\":3,\"rowLimit\":0,\"columnMetadata\":[{\"columnName\":\"Account_Name\",\"columnTypeName\":\"VARCHAR\",\"length\":128,\"scale\":128},{\"columnNumber\":1,\"columnName\":\"Site_ID\",\"columnTypeName\":\"VARCHAR\",\"length\":128,\"scale\":128},{\"columnNumber\":2,\"columnName\":\"LogDate\",\"columnTypeName\":\"DATE\"},{\"columnNumber\":3,\"columnName\":\"InfoKey\",\"columnTypeName\":\"VARCHAR\",\"length\":128,\"scale\":128},{\"columnNumber\":4,\"columnName\":\"InfoData\",\"columnTypeName\":\"VARCHAR\",\"length\":128,\"scale\":128}]}"
     },
     "output_type": "execute_result"
    }
   ],
   "source": [
    "Select * from adlste_coa.coa_dat_dbcinfo "
   ]
  },
  {
   "cell_type": "code",
   "execution_count": null,
   "metadata": {},
   "outputs": [],
   "source": []
  }
 ],
 "metadata": {
  "kernelspec": {
   "display_name": "Teradata SQL",
   "language": "Teradata SQL",
   "name": "teradatasql"
  },
  "language_info": {
   "codemirror_mode": "Teradata SQL",
   "file_extension": ".tdrs",
   "mimetype": "application/vnd.teradata.resultset",
   "name": "Teradata SQL",
   "nbconvert_exporter": "",
   "pygments_lexer": "",
   "version": "16.20"
  }
 },
 "nbformat": 4,
 "nbformat_minor": 2
}
