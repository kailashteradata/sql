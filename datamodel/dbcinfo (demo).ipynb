{
 "cells": [
  {
   "cell_type": "markdown",
   "metadata": {},
   "source": [
    "# Deploy COA Objects in Transcend:   DBInfo (Demo Project)"
   ]
  },
  {
   "cell_type": "code",
   "execution_count": null,
   "metadata": {},
   "outputs": [],
   "source": [
    "%addconnect name=Transcend, user=sh186014, host=tdprdcop3.td.teradata.com, props=\"LOGMECH=LDAP\""
   ]
  },
  {
   "cell_type": "code",
   "execution_count": null,
   "metadata": {},
   "outputs": [],
   "source": [
    "%connect name=Transcend"
   ]
  },
  {
   "cell_type": "code",
   "execution_count": null,
   "metadata": {},
   "outputs": [],
   "source": [
    "call adlste_coa.sp_meta_objects_refresh('DBCInfo') "
   ]
  },
  {
   "cell_type": "markdown",
   "metadata": {},
   "source": [
    "## Stage Object (adlste_coa_stg)"
   ]
  },
  {
   "cell_type": "code",
   "execution_count": null,
   "metadata": {},
   "outputs": [],
   "source": [
    "drop table adlste_coa_stg.stg_dat_dbcinfo;"
   ]
  },
  {
   "cell_type": "code",
   "execution_count": null,
   "metadata": {},
   "outputs": [],
   "source": [
    "CREATE MULTISET GLOBAL TEMPORARY TABLE adlste_coa_stg.stg_dat_DBCinfo\n",
    "( Account_Name   VARCHAR(128) CHARACTER SET LATIN NOT CASESPECIFIC\n",
    ", Site_ID        VARCHAR(128) CHARACTER SET LATIN NOT CASESPECIFIC\n",
    ", InfoKey        VARCHAR(128) CHARACTER SET LATIN NOT CASESPECIFIC\n",
    ", InfoData       VARCHAR(128) CHARACTER SET LATIN NOT CASESPECIFIC\n",
    ") NO PRIMARY INDEX \n",
    "ON COMMIT PRESERVE ROWS;"
   ]
  },
  {
   "cell_type": "code",
   "execution_count": null,
   "metadata": {},
   "outputs": [],
   "source": [
    "select count(*) from adlste_coa_stg.stg_dat_dbcinfo;"
   ]
  },
  {
   "cell_type": "markdown",
   "metadata": {},
   "source": [
    "## Target Table and View (adlste_coa)"
   ]
  },
  {
   "cell_type": "code",
   "execution_count": null,
   "metadata": {},
   "outputs": [],
   "source": [
    "DROP TABLE adlste_coa.coat_dat_DBCinfo;"
   ]
  },
  {
   "cell_type": "code",
   "execution_count": null,
   "metadata": {},
   "outputs": [],
   "source": [
    "CREATE MULTISET TABLE adlste_coa.coat_dat_DBCinfo\n",
    "( Account_Name   VARCHAR(128) CHARACTER SET LATIN NOT CASESPECIFIC\n",
    ", Site_ID        VARCHAR(128) CHARACTER SET LATIN NOT CASESPECIFIC\n",
    ", LogDate        DATE Default Current_Date\n",
    ", InfoKey        VARCHAR(128) CHARACTER SET LATIN NOT CASESPECIFIC\n",
    ", InfoData       VARCHAR(128) CHARACTER SET LATIN NOT CASESPECIFIC\n",
    ") Primary Index(Site_ID, LogDate);"
   ]
  },
  {
   "cell_type": "code",
   "execution_count": null,
   "metadata": {},
   "outputs": [],
   "source": [
    "REPLACE VIEW adlste_coa.coa_dat_DBCinfo\n",
    "as locking row for access\n",
    "Select * from adlste_coa.coat_dat_DBCinfo;"
   ]
  },
  {
   "cell_type": "markdown",
   "metadata": {},
   "source": [
    "## Stored Proc to manage the merge"
   ]
  },
  {
   "cell_type": "code",
   "execution_count": null,
   "metadata": {},
   "outputs": [],
   "source": [
    "REPLACE PROCEDURE adlste_coa.sp_dat_dbcinfo ( spversion VARCHAR(128) ) \n",
    "SQL SECURITY CREATOR\n",
    "BEGIN \n",
    "\n",
    "    /* start setup audit process */\n",
    "    \n",
    "    DECLARE runid  INTEGER;\n",
    "    DECLARE siteid VARCHAR(128);\n",
    "    DECLARE tablename VARCHAR(128);\n",
    "    DECLARE callingsp VARCHAR(128); \n",
    "    DECLARE startdate DATE;\n",
    "    DECLARE enddate DATE;\n",
    "    \n",
    "    SET runid = 0;\n",
    "    SET tablename = 'adlste_coa.coat_dat_dbcinfo';\n",
    "    SET callingsp = 'adlste_coa.sp_dat_dbcinfo';\n",
    "    SET siteid = 'Empty Table';\n",
    "    SET startdate = DATE;\n",
    "    SET enddate = DATE;\n",
    "\n",
    "    SELECT \n",
    "     coalesce(Site_ID,'empty table')       \n",
    "    ,current_date as StartDate\n",
    "    ,current_date as EndDate\n",
    "    INTO siteid, startdate, enddate\n",
    "    FROM adlste_coa_stg.stg_dat_dbcinfo \n",
    "    Group by  1,2,3\n",
    "    ;\n",
    "    \n",
    "    /* end setup audit process */\n",
    "    \n",
    "    \n",
    "    \n",
    "    CALL adlste_coa.sp_audit_log(runid, :siteid, :tablename, :callingsp, :spversion, :startdate, :enddate,\n",
    "                              'normal run', 'START') ;\n",
    "\n",
    "    DELETE FROM adlste_coa.coat_dat_dbcinfo WHERE (Site_ID, LogDate) IN\n",
    "    (Select Site_ID, Current_Date From adlste_coa_stg.stg_dat_dbcinfo );\n",
    "    \n",
    "    Insert into adlste_coa.coat_dat_dbcinfo \n",
    "    Select Account_Name, Site_ID, Current_Date, InfoKey, InfoData \n",
    "    from adlste_coa_stg.stg_dat_dbcinfo\n",
    "    group  by 1,2,3,4,5; \n",
    "    \n",
    "        \n",
    "    CALL adlste_coa.sp_audit_log(runid, :siteid, :tablename, :callingsp, :spversion, :startdate, :enddate,\n",
    "                              'normal run', 'END') ;\n",
    "\n",
    "END;"
   ]
  },
  {
   "cell_type": "code",
   "execution_count": null,
   "metadata": {},
   "outputs": [],
   "source": [
    "-- Generate Test Data\n",
    "insert into adlste_coa_stg.stg_dat_DBCinfo\n",
    "select 'test account', 'testsiteid123', infokey, infodata from dbc.dbcinfo;"
   ]
  },
  {
   "cell_type": "code",
   "execution_count": null,
   "metadata": {},
   "outputs": [],
   "source": [
    "call adlste_coa.sp_dat_dbcinfo('1.1')"
   ]
  },
  {
   "cell_type": "code",
   "execution_count": null,
   "metadata": {},
   "outputs": [],
   "source": [
    "select * from adlste_coa.coa_audit_runlog order by 1"
   ]
  },
  {
   "cell_type": "code",
   "execution_count": null,
   "metadata": {},
   "outputs": [],
   "source": [
    "select * from adlste_coa.coa_audit_summary order by 1"
   ]
  },
  {
   "cell_type": "code",
   "execution_count": null,
   "metadata": {},
   "outputs": [],
   "source": []
  },
  {
   "cell_type": "markdown",
   "metadata": {},
   "source": [
    "## Test the Process"
   ]
  },
  {
   "cell_type": "code",
   "execution_count": null,
   "metadata": {},
   "outputs": [],
   "source": [
    "insert into adlste_coa_stg.stg_dat_dbcinfo \n",
    "Select 'Test_Account',  'Test_SiteID', InfoKey, InfoData from dbc.dbcinfo;\n",
    "\n",
    "Select * from adlste_coa_stg.stg_dat_dbcinfo "
   ]
  },
  {
   "cell_type": "code",
   "execution_count": null,
   "metadata": {},
   "outputs": [],
   "source": [
    "call adlste_coa.sp_dat_dbcinfo('1.1');"
   ]
  },
  {
   "cell_type": "code",
   "execution_count": null,
   "metadata": {},
   "outputs": [],
   "source": [
    "Select * from adlste_coa.coa_dat_dbcinfo "
   ]
  },
  {
   "cell_type": "code",
   "execution_count": null,
   "metadata": {},
   "outputs": [],
   "source": []
  }
 ],
 "metadata": {
  "kernelspec": {
   "display_name": "Teradata SQL",
   "language": "Teradata SQL",
   "name": "teradatasql"
  },
  "language_info": {
   "codemirror_mode": "Teradata SQL",
   "file_extension": ".tdrs",
   "mimetype": "application/vnd.teradata.resultset",
   "name": "Teradata SQL",
   "nbconvert_exporter": "",
   "pygments_lexer": "",
   "version": "16.20"
  }
 },
 "nbformat": 4,
 "nbformat_minor": 2
}
