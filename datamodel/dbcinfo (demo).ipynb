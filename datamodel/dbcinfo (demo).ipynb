{
 "cells": [
  {
   "cell_type": "markdown",
   "metadata": {},
   "source": [
    "# Deploy COA Objects in Transcend:   DBInfo (Demo Project)"
   ]
  },
  {
   "cell_type": "code",
   "execution_count": null,
   "metadata": {},
   "outputs": [],
   "source": [
    "%addconnect name=Transcend, user=sh186014, host=tdprdcop3.td.teradata.com, props=\"LOGMECH=LDAP\""
   ]
  },
  {
   "cell_type": "code",
   "execution_count": 1,
   "metadata": {},
   "outputs": [
    {
     "name": "stdin",
     "output_type": "stream",
     "text": [
      "Password ············\n"
     ]
    },
    {
     "name": "stdout",
     "output_type": "stream",
     "text": [
      "Success: 'Transcend' connection established\n"
     ]
    }
   ],
   "source": [
    "%connect name=Transcend"
   ]
  },
  {
   "cell_type": "code",
   "execution_count": 2,
   "metadata": {},
   "outputs": [
    {
     "data": {
      "text/plain": [
       "Success: 0 rows affected"
      ]
     },
     "execution_count": 2,
     "metadata": {
      "application/vnd.teradata.resultset": ""
     },
     "output_type": "execute_result"
    },
    {
     "data": {
      "application/vnd.teradata.resultset": "[{\"DatabaseName\":\"ADLSTE_COA\",\"ObjFunction\":\"dat\",\"ObjType\":\"coa\",\"ProcessName\":\"DBCinfo\",\"TableKind\":\"V \",\"TableName\":\"coa_dat_DBCinfo\"},{\"DatabaseName\":\"ADLSTE_COA\",\"ObjFunction\":\"dat\",\"ObjType\":\"coat\",\"ProcessName\":\"DBCinfo\",\"TableKind\":\"T \",\"TableName\":\"coat_dat_DBCinfo\"},{\"DatabaseName\":\"ADLSTE_COA\",\"ObjFunction\":\"dat\",\"ObjType\":\"sp\",\"ProcessName\":\"dbcinfo\",\"TableKind\":\"P \",\"TableName\":\"sp_dat_dbcinfo\"},{\"DatabaseName\":\"ADLSTE_COA_Stg\",\"ObjFunction\":\"dat\",\"ObjType\":\"stg\",\"ProcessName\":\"DBCinfo\",\"TableKind\":\"O \",\"TableName\":\"stg_dat_DBCinfo\"}]\n",
      "text/html": [
       "<div class = \"td-resultset-table-div\" style = \"max-height: 137px; overflow-y: auto\"><style> table {border: 1px solid rgb(207, 207, 207) !important; border-collapse: collapse !important; margin-top: 1px !important;} th {border: 1px solid rgb(198,198,198) !important; border-collapse: collapse !important; padding: 2px 5px !important; font-size: 13px !important; min-width:150px !important; max-width: 150px !important; white-space: nowrap !important; overflow:hidden !important; text-overflow:ellipsis !important;} tr:nth-child(even) {background: rgba(243, 243, 243, 0.75) !important;} td {border: 1px solid rgb(207, 207, 207) !important; border-collapse: collapse !important; padding: 2px 5px !important; font-size: 13px !important; min-width:150px !important; max-width: 150px !important; white-space: nowrap !important; overflow:hidden !important; text-overflow:ellipsis !important;}</style><table><thead><tr style= \"background: #efefef;\"><th>DatabaseName</th><th>TableName</th><th>TableKind</th><th>ObjType</th><th>ObjFunction</th><th>ProcessName</th></tr></thead><tr><td>ADLSTE_COA</td><td>coa_dat_DBCinfo</td><td>V </td><td>coa</td><td>dat</td><td>DBCinfo</td></tr><tr><td>ADLSTE_COA</td><td>coat_dat_DBCinfo</td><td>T </td><td>coat</td><td>dat</td><td>DBCinfo</td></tr><tr><td>ADLSTE_COA</td><td>sp_dat_dbcinfo</td><td>P </td><td>sp</td><td>dat</td><td>dbcinfo</td></tr><tr><td>ADLSTE_COA_Stg</td><td>stg_dat_DBCinfo</td><td>O </td><td>stg</td><td>dat</td><td>DBCinfo</td></tr></table></div>"
      ]
     },
     "execution_count": 2,
     "metadata": {
      "application/vnd.teradata.resultset": "{\"resultSetID\":\"/home/jovyan/JupyterLabRoot/Teradata/Resultsets/2020.05.08_01.40.20.134_UTC\",\"historyID\":772,\"chunkID\":\"00001\",\"sessionid\":\"\",\"portnum\":\"\",\"dockermode\":\"docker\",\"totalRowCount\":4,\"rowLimit\":0,\"columnMetadata\":[{\"columnName\":\"DatabaseName\",\"columnTypeName\":\"VARCHAR\",\"length\":128,\"scale\":128},{\"columnNumber\":1,\"columnName\":\"TableName\",\"columnTypeName\":\"VARCHAR\",\"length\":128,\"scale\":128},{\"columnNumber\":2,\"columnName\":\"TableKind\",\"columnTypeName\":\"CHAR\",\"length\":1,\"scale\":1},{\"columnNumber\":3,\"columnName\":\"ObjType\",\"columnTypeName\":\"VARCHAR\",\"length\":30,\"scale\":30},{\"columnNumber\":4,\"columnName\":\"ObjFunction\",\"columnTypeName\":\"VARCHAR\",\"length\":30,\"scale\":30},{\"columnNumber\":5,\"columnName\":\"ProcessName\",\"columnTypeName\":\"VARCHAR\",\"length\":30,\"scale\":30}]}"
     },
     "output_type": "execute_result"
    }
   ],
   "source": [
    "call adlste_coa.sp_meta_objects_refresh('DBCInfo') "
   ]
  },
  {
   "cell_type": "markdown",
   "metadata": {},
   "source": [
    "## Stage Object (adlste_coa_stg)"
   ]
  },
  {
   "cell_type": "code",
   "execution_count": 8,
   "metadata": {},
   "outputs": [
    {
     "data": {
      "text/plain": [
       "Success: 22 rows affected"
      ]
     },
     "execution_count": 8,
     "metadata": {
      "application/vnd.teradata.resultset": ""
     },
     "output_type": "execute_result"
    }
   ],
   "source": [
    "drop table adlste_coa_stg.stg_dat_dbcinfo;"
   ]
  },
  {
   "cell_type": "code",
   "execution_count": 9,
   "metadata": {},
   "outputs": [
    {
     "data": {
      "text/plain": [
       "Success: 0 rows affected"
      ]
     },
     "execution_count": 9,
     "metadata": {
      "application/vnd.teradata.resultset": ""
     },
     "output_type": "execute_result"
    }
   ],
   "source": [
    "CREATE MULTISET GLOBAL TEMPORARY TABLE adlste_coa_stg.stg_dat_DBCinfo\n",
    "( Account_Name   VARCHAR(128) CHARACTER SET LATIN NOT CASESPECIFIC\n",
    ", Site_ID        VARCHAR(128) CHARACTER SET LATIN NOT CASESPECIFIC\n",
    ", InfoKey        VARCHAR(128) CHARACTER SET LATIN NOT CASESPECIFIC\n",
    ", InfoData       VARCHAR(128) CHARACTER SET LATIN NOT CASESPECIFIC\n",
    ") NO PRIMARY INDEX \n",
    "ON COMMIT PRESERVE ROWS;"
   ]
  },
  {
   "cell_type": "code",
   "execution_count": 10,
   "metadata": {},
   "outputs": [
    {
     "data": {
      "application/vnd.teradata.resultset": "[{\"Count(*)\":\"0\"}]\n",
      "text/html": [
       "<div class = \"td-resultset-table-div\" style = \"max-height: 77px; overflow-y: auto\"><style> table {border: 1px solid rgb(207, 207, 207) !important; border-collapse: collapse !important; margin-top: 1px !important;} th {border: 1px solid rgb(198,198,198) !important; border-collapse: collapse !important; padding: 2px 5px !important; font-size: 13px !important; min-width:150px !important; max-width: 150px !important; white-space: nowrap !important; overflow:hidden !important; text-overflow:ellipsis !important;} tr:nth-child(even) {background: rgba(243, 243, 243, 0.75) !important;} td {border: 1px solid rgb(207, 207, 207) !important; border-collapse: collapse !important; padding: 2px 5px !important; font-size: 13px !important; min-width:150px !important; max-width: 150px !important; white-space: nowrap !important; overflow:hidden !important; text-overflow:ellipsis !important;}</style><table><thead><tr style= \"background: #efefef;\"><th>Count(*)</th></tr></thead><tr><td>0</td></tr></table></div>"
      ]
     },
     "execution_count": 10,
     "metadata": {
      "application/vnd.teradata.resultset": "{\"resultSetID\":\"/home/jovyan/JupyterLabRoot/Teradata/Resultsets/2020.05.08_01.44.30.109_UTC\",\"historyID\":780,\"chunkID\":\"00001\",\"sessionid\":\"\",\"portnum\":\"\",\"dockermode\":\"docker\",\"totalRowCount\":1,\"rowLimit\":0,\"columnMetadata\":[{\"columnName\":\"Count(*)\",\"columnTypeName\":\"INTEGER\"}]}"
     },
     "output_type": "execute_result"
    }
   ],
   "source": [
    "select count(*) from adlste_coa_stg.stg_dat_dbcinfo;"
   ]
  },
  {
   "cell_type": "markdown",
   "metadata": {},
   "source": [
    "## Target Table and View (adlste_coa)"
   ]
  },
  {
   "cell_type": "code",
   "execution_count": 11,
   "metadata": {},
   "outputs": [
    {
     "data": {
      "text/plain": [
       "Success: 26 rows affected"
      ]
     },
     "execution_count": 11,
     "metadata": {
      "application/vnd.teradata.resultset": ""
     },
     "output_type": "execute_result"
    }
   ],
   "source": [
    "DROP TABLE adlste_coa.coat_dat_DBCinfo;"
   ]
  },
  {
   "cell_type": "code",
   "execution_count": 12,
   "metadata": {},
   "outputs": [
    {
     "data": {
      "text/plain": [
       "Success: 0 rows affected"
      ]
     },
     "execution_count": 12,
     "metadata": {
      "application/vnd.teradata.resultset": ""
     },
     "output_type": "execute_result"
    }
   ],
   "source": [
    "CREATE MULTISET TABLE adlste_coa.coat_dat_DBCinfo\n",
    "( Account_Name   VARCHAR(128) CHARACTER SET LATIN NOT CASESPECIFIC\n",
    ", Site_ID        VARCHAR(128) CHARACTER SET LATIN NOT CASESPECIFIC\n",
    ", LogDate        DATE Default Current_Date\n",
    ", InfoKey        VARCHAR(128) CHARACTER SET LATIN NOT CASESPECIFIC\n",
    ", InfoData       VARCHAR(128) CHARACTER SET LATIN NOT CASESPECIFIC\n",
    ") Primary Index(Site_ID, LogDate);"
   ]
  },
  {
   "cell_type": "code",
   "execution_count": 13,
   "metadata": {},
   "outputs": [
    {
     "data": {
      "text/plain": [
       "Success: 6 rows affected"
      ]
     },
     "execution_count": 13,
     "metadata": {
      "application/vnd.teradata.resultset": ""
     },
     "output_type": "execute_result"
    }
   ],
   "source": [
    "REPLACE VIEW adlste_coa.coa_dat_DBCinfo\n",
    "as locking row for access\n",
    "Select * from adlste_coa.coat_dat_DBCinfo;"
   ]
  },
  {
   "cell_type": "markdown",
   "metadata": {},
   "source": [
    "## Stored Proc to manage the merge"
   ]
  },
  {
   "cell_type": "code",
   "execution_count": 30,
   "metadata": {},
   "outputs": [
    {
     "data": {
      "text/plain": [
       "Success: 0 rows affected"
      ]
     },
     "execution_count": 30,
     "metadata": {
      "application/vnd.teradata.resultset": ""
     },
     "output_type": "execute_result"
    }
   ],
   "source": [
    "REPLACE PROCEDURE adlste_coa.sp_dat_dbcinfo ( spversion VARCHAR(128) ) \n",
    "SQL SECURITY CREATOR\n",
    "BEGIN \n",
    "\n",
    "    /* setup audit process */\n",
    "    \n",
    "    DECLARE runid  INTEGER;\n",
    "    DECLARE siteid VARCHAR(128);\n",
    "    DECLARE tablename VARCHAR(128);\n",
    "    DECLARE callingsp VARCHAR(128); \n",
    "    DECLARE startdate DATE;\n",
    "    DECLARE enddate DATE;\n",
    "    \n",
    "    SET runid = 0;\n",
    "    SET tablename = 'adlste_coa.coat_dat_dbcinfo';\n",
    "    SET callingsp = 'adlste_coa.sp_dat_dbcinfo';\n",
    "    SET siteid = 'Empty Table';\n",
    "    SET startdate = DATE;\n",
    "    SET enddate = DATE;\n",
    "\n",
    "    SELECT \n",
    "     coalesce(Site_ID,'empty table')       \n",
    "    ,current_date as StartDate\n",
    "    ,current_date as EndDate\n",
    "    INTO siteid, startdate, enddate\n",
    "    FROM adlste_coa_stg.stg_dat_dbcinfo \n",
    "    Group by  1,2,3\n",
    "    ;\n",
    "    \n",
    "    CALL adlste_coa.sp_audit_log(runid, :siteid, :tablename, :callingsp, :spversion, :startdate, :enddate,\n",
    "                              'normal run', 'START') ;\n",
    "\n",
    "\n",
    "    DELETE FROM adlste_coa.coat_dat_dbcinfo WHERE (Site_ID, LogDate) IN\n",
    "    (Select Site_ID, Current_Date From adlste_coa_stg.stg_dat_dbcinfo );\n",
    "    \n",
    "    Insert into adlste_coa.coat_dat_dbcinfo \n",
    "    Select Account_Name, Site_ID, Current_Date, InfoKey, InfoData \n",
    "    from adlste_coa_stg.stg_dat_dbcinfo\n",
    "    group  by 1,2,3,4,5; \n",
    "    \n",
    "        \n",
    "    CALL adlste_coa.sp_audit_log(runid, :siteid, :tablename, :callingsp, :spversion, :startdate, :enddate,\n",
    "                              'normal run', 'END') ;\n",
    "\n",
    "END;"
   ]
  },
  {
   "cell_type": "code",
   "execution_count": 35,
   "metadata": {},
   "outputs": [
    {
     "data": {
      "text/plain": [
       "Success: 3 rows affected"
      ]
     },
     "execution_count": 35,
     "metadata": {
      "application/vnd.teradata.resultset": ""
     },
     "output_type": "execute_result"
    }
   ],
   "source": [
    "insert into adlste_coa_stg.stg_dat_DBCinfo\n",
    "select 'test account', 'testsiteid123', infokey, infodata from dbc.dbcinfo;"
   ]
  },
  {
   "cell_type": "code",
   "execution_count": 36,
   "metadata": {},
   "outputs": [
    {
     "data": {
      "text/plain": [
       "Success: 0 rows affected"
      ]
     },
     "execution_count": 36,
     "metadata": {
      "application/vnd.teradata.resultset": ""
     },
     "output_type": "execute_result"
    }
   ],
   "source": [
    "call adlste_coa.sp_dat_dbcinfo('1.1')"
   ]
  },
  {
   "cell_type": "code",
   "execution_count": 37,
   "metadata": {},
   "outputs": [
    {
     "data": {
      "application/vnd.teradata.resultset": "[{\"CallingSP\":\"adlste_coa.sp_test\",\"EndDate\":\"2020-05-06\",\"ParentRun_ID\":\"0\",\"Run_ID\":\"1\",\"Run_Status\":\"START\",\"Run_TS\":\"2020-05-07 21:03:41\",\"Run_Type\":\"Test Run\",\"Run_User\":\"SH186014\",\"SQLVersion\":\"v1.15\",\"Site_ID\":\"test_SiteID\",\"StartDate\":\"2020-04-30\",\"TableName\":\"adlste_coa.coat_audit_run\"},{\"CallingSP\":\"adlste_coa.sp_test\",\"EndDate\":\"2020-05-06\",\"ParentRun_ID\":\"1\",\"Run_ID\":\"2\",\"Run_Status\":\"CHECKPOINT\",\"Run_TS\":\"2020-05-07 21:03:48\",\"Run_Type\":\"Test Run\",\"Run_User\":\"SH186014\",\"SQLVersion\":\"v1.15\",\"Site_ID\":\"test_SiteID\",\"StartDate\":\"2020-04-30\",\"TableName\":\"adlste_coa.coat_audit_run\"},{\"CallingSP\":\"adlste_coa.sp_test\",\"EndDate\":\"2020-05-06\",\"ParentRun_ID\":\"1\",\"Run_ID\":\"3\",\"Run_Status\":\"END\",\"Run_TS\":\"2020-05-07 21:03:54\",\"Run_Type\":\"Test Run\",\"Run_User\":\"SH186014\",\"SQLVersion\":\"v1.15\",\"Site_ID\":\"test_SiteID\",\"StartDate\":\"2020-04-30\",\"TableName\":\"adlste_coa.coat_audit_run\"},{\"CallingSP\":\"adlste_coa.sp_test\",\"EndDate\":\"2020-05-06\",\"ParentRun_ID\":\"0\",\"Run_ID\":\"4\",\"Run_Status\":\"START\",\"Run_TS\":\"2020-05-07 21:04:32\",\"Run_Type\":\"Test Run\",\"Run_User\":\"SH186014\",\"SQLVersion\":\"v1.15\",\"Site_ID\":\"test_SiteID\",\"StartDate\":\"2020-04-30\",\"TableName\":\"adlste_coa.coat_audit_run\"},{\"CallingSP\":\"adlste_coa.sp_test\",\"EndDate\":\"2020-05-06\",\"ParentRun_ID\":\"4\",\"Run_ID\":\"5\",\"Run_Status\":\"CHECKPOINT\",\"Run_TS\":\"2020-05-07 21:04:34\",\"Run_Type\":\"Test Run\",\"Run_User\":\"SH186014\",\"SQLVersion\":\"v1.15\",\"Site_ID\":\"test_SiteID\",\"StartDate\":\"2020-04-30\",\"TableName\":\"adlste_coa.coat_audit_run\"},{\"CallingSP\":\"adlste_coa.sp_test\",\"EndDate\":\"2020-05-06\",\"ParentRun_ID\":\"4\",\"Run_ID\":\"6\",\"Run_Status\":\"END\",\"Run_TS\":\"2020-05-07 21:04:37\",\"Run_Type\":\"Test Run\",\"Run_User\":\"SH186014\",\"SQLVersion\":\"v1.15\",\"Site_ID\":\"test_SiteID\",\"StartDate\":\"2020-04-30\",\"TableName\":\"adlste_coa.coat_audit_run\"},{\"CallingSP\":\"\",\"EndDate\":\"\",\"ParentRun_ID\":\"0\",\"Run_ID\":\"7\",\"Run_Status\":\"START\",\"Run_TS\":\"2020-05-07 21:45:46\",\"Run_Type\":\"normal run\",\"Run_User\":\"SH186014\",\"SQLVersion\":\"1.1\",\"Site_ID\":\"\",\"StartDate\":\"\",\"TableName\":\"\"},{\"CallingSP\":\"\",\"EndDate\":\"\",\"ParentRun_ID\":\"7\",\"Run_ID\":\"8\",\"Run_Status\":\"END\",\"Run_TS\":\"2020-05-07 21:45:46\",\"Run_Type\":\"normal run\",\"Run_User\":\"SH186014\",\"SQLVersion\":\"1.1\",\"Site_ID\":\"\",\"StartDate\":\"\",\"TableName\":\"\"},{\"CallingSP\":\"adlste_coa.sp_dat_dbcinfo\",\"EndDate\":\"\",\"ParentRun_ID\":\"0\",\"Run_ID\":\"9\",\"Run_Status\":\"START\",\"Run_TS\":\"2020-05-07 21:48:55\",\"Run_Type\":\"normal run\",\"Run_User\":\"SH186014\",\"SQLVersion\":\"1.1\",\"Site_ID\":\"\",\"StartDate\":\"\",\"TableName\":\"adlste_coa.coat_dat_dbcinfo\"},{\"CallingSP\":\"adlste_coa.sp_dat_dbcinfo\",\"EndDate\":\"\",\"ParentRun_ID\":\"9\",\"Run_ID\":\"10\",\"Run_Status\":\"END\",\"Run_TS\":\"2020-05-07 21:48:55\",\"Run_Type\":\"normal run\",\"Run_User\":\"SH186014\",\"SQLVersion\":\"1.1\",\"Site_ID\":\"\",\"StartDate\":\"\",\"TableName\":\"adlste_coa.coat_dat_dbcinfo\"},{\"CallingSP\":\"adlste_coa.sp_dat_dbcinfo\",\"EndDate\":\"2020-05-07\",\"ParentRun_ID\":\"0\",\"Run_ID\":\"11\",\"Run_Status\":\"START\",\"Run_TS\":\"2020-05-07 21:51:40\",\"Run_Type\":\"normal run\",\"Run_User\":\"SH186014\",\"SQLVersion\":\"1.1\",\"Site_ID\":\"Empty Table\",\"StartDate\":\"2020-05-07\",\"TableName\":\"adlste_coa.coat_dat_dbcinfo\"},{\"CallingSP\":\"adlste_coa.sp_dat_dbcinfo\",\"EndDate\":\"2020-05-07\",\"ParentRun_ID\":\"11\",\"Run_ID\":\"12\",\"Run_Status\":\"END\",\"Run_TS\":\"2020-05-07 21:51:40\",\"Run_Type\":\"normal run\",\"Run_User\":\"SH186014\",\"SQLVersion\":\"1.1\",\"Site_ID\":\"Empty Table\",\"StartDate\":\"2020-05-07\",\"TableName\":\"adlste_coa.coat_dat_dbcinfo\"},{\"CallingSP\":\"adlste_coa.sp_dat_dbcinfo\",\"EndDate\":\"2020-05-07\",\"ParentRun_ID\":\"0\",\"Run_ID\":\"13\",\"Run_Status\":\"START\",\"Run_TS\":\"2020-05-07 21:53:28\",\"Run_Type\":\"normal run\",\"Run_User\":\"SH186014\",\"SQLVersion\":\"1.1\",\"Site_ID\":\"testsiteid123\",\"StartDate\":\"2020-05-07\",\"TableName\":\"adlste_coa.coat_dat_dbcinfo\"},{\"CallingSP\":\"adlste_coa.sp_dat_dbcinfo\",\"EndDate\":\"2020-05-07\",\"ParentRun_ID\":\"13\",\"Run_ID\":\"14\",\"Run_Status\":\"END\",\"Run_TS\":\"2020-05-07 21:53:28\",\"Run_Type\":\"normal run\",\"Run_User\":\"SH186014\",\"SQLVersion\":\"1.1\",\"Site_ID\":\"testsiteid123\",\"StartDate\":\"2020-05-07\",\"TableName\":\"adlste_coa.coat_dat_dbcinfo\"}]\n",
      "text/html": [
       "<div class = \"td-resultset-table-div\" style = \"max-height: 337px; overflow-y: auto\"><style> table {border: 1px solid rgb(207, 207, 207) !important; border-collapse: collapse !important; margin-top: 1px !important;} th {border: 1px solid rgb(198,198,198) !important; border-collapse: collapse !important; padding: 2px 5px !important; font-size: 13px !important; min-width:150px !important; max-width: 150px !important; white-space: nowrap !important; overflow:hidden !important; text-overflow:ellipsis !important;} tr:nth-child(even) {background: rgba(243, 243, 243, 0.75) !important;} td {border: 1px solid rgb(207, 207, 207) !important; border-collapse: collapse !important; padding: 2px 5px !important; font-size: 13px !important; min-width:150px !important; max-width: 150px !important; white-space: nowrap !important; overflow:hidden !important; text-overflow:ellipsis !important;}</style><table><thead><tr style= \"background: #efefef;\"><th>Run_ID</th><th>ParentRun_ID</th><th>Site_ID</th><th>TableName</th><th>StartDate</th><th>EndDate</th><th>CallingSP</th><th>SQLVersion</th><th>Run_Type</th><th>Run_Status</th><th>Run_User</th><th>Run_TS</th></tr></thead><tr><td>1</td><td>0</td><td>test_SiteID</td><td>adlste_coa.coat_audit_run</td><td>2020-04-30</td><td>2020-05-06</td><td>adlste_coa.sp_test</td><td>v1.15</td><td>Test Run</td><td>START</td><td>SH186014</td><td>2020-05-07 21:03:41</td></tr><tr><td>2</td><td>1</td><td>test_SiteID</td><td>adlste_coa.coat_audit_run</td><td>2020-04-30</td><td>2020-05-06</td><td>adlste_coa.sp_test</td><td>v1.15</td><td>Test Run</td><td>CHECKPOINT</td><td>SH186014</td><td>2020-05-07 21:03:48</td></tr><tr><td>3</td><td>1</td><td>test_SiteID</td><td>adlste_coa.coat_audit_run</td><td>2020-04-30</td><td>2020-05-06</td><td>adlste_coa.sp_test</td><td>v1.15</td><td>Test Run</td><td>END</td><td>SH186014</td><td>2020-05-07 21:03:54</td></tr><tr><td>4</td><td>0</td><td>test_SiteID</td><td>adlste_coa.coat_audit_run</td><td>2020-04-30</td><td>2020-05-06</td><td>adlste_coa.sp_test</td><td>v1.15</td><td>Test Run</td><td>START</td><td>SH186014</td><td>2020-05-07 21:04:32</td></tr><tr><td>5</td><td>4</td><td>test_SiteID</td><td>adlste_coa.coat_audit_run</td><td>2020-04-30</td><td>2020-05-06</td><td>adlste_coa.sp_test</td><td>v1.15</td><td>Test Run</td><td>CHECKPOINT</td><td>SH186014</td><td>2020-05-07 21:04:34</td></tr><tr><td>6</td><td>4</td><td>test_SiteID</td><td>adlste_coa.coat_audit_run</td><td>2020-04-30</td><td>2020-05-06</td><td>adlste_coa.sp_test</td><td>v1.15</td><td>Test Run</td><td>END</td><td>SH186014</td><td>2020-05-07 21:04:37</td></tr><tr><td>7</td><td>0</td><td></td><td></td><td></td><td></td><td></td><td>1.1</td><td>normal run</td><td>START</td><td>SH186014</td><td>2020-05-07 21:45:46</td></tr><tr><td>8</td><td>7</td><td></td><td></td><td></td><td></td><td></td><td>1.1</td><td>normal run</td><td>END</td><td>SH186014</td><td>2020-05-07 21:45:46</td></tr><tr><td>9</td><td>0</td><td></td><td>adlste_coa.coat_dat_dbcinfo</td><td></td><td></td><td>adlste_coa.sp_dat_dbcinfo</td><td>1.1</td><td>normal run</td><td>START</td><td>SH186014</td><td>2020-05-07 21:48:55</td></tr><tr><td>10</td><td>9</td><td></td><td>adlste_coa.coat_dat_dbcinfo</td><td></td><td></td><td>adlste_coa.sp_dat_dbcinfo</td><td>1.1</td><td>normal run</td><td>END</td><td>SH186014</td><td>2020-05-07 21:48:55</td></tr><tr><td>11</td><td>0</td><td>Empty Table</td><td>adlste_coa.coat_dat_dbcinfo</td><td>2020-05-07</td><td>2020-05-07</td><td>adlste_coa.sp_dat_dbcinfo</td><td>1.1</td><td>normal run</td><td>START</td><td>SH186014</td><td>2020-05-07 21:51:40</td></tr><tr><td>12</td><td>11</td><td>Empty Table</td><td>adlste_coa.coat_dat_dbcinfo</td><td>2020-05-07</td><td>2020-05-07</td><td>adlste_coa.sp_dat_dbcinfo</td><td>1.1</td><td>normal run</td><td>END</td><td>SH186014</td><td>2020-05-07 21:51:40</td></tr><tr><td>13</td><td>0</td><td>testsiteid123</td><td>adlste_coa.coat_dat_dbcinfo</td><td>2020-05-07</td><td>2020-05-07</td><td>adlste_coa.sp_dat_dbcinfo</td><td>1.1</td><td>normal run</td><td>START</td><td>SH186014</td><td>2020-05-07 21:53:28</td></tr><tr><td>14</td><td>13</td><td>testsiteid123</td><td>adlste_coa.coat_dat_dbcinfo</td><td>2020-05-07</td><td>2020-05-07</td><td>adlste_coa.sp_dat_dbcinfo</td><td>1.1</td><td>normal run</td><td>END</td><td>SH186014</td><td>2020-05-07 21:53:28</td></tr></table></div>"
      ]
     },
     "execution_count": 37,
     "metadata": {
      "application/vnd.teradata.resultset": "{\"resultSetID\":\"/home/jovyan/JupyterLabRoot/Teradata/Resultsets/2020.05.08_01.53.32.693_UTC\",\"historyID\":807,\"chunkID\":\"00001\",\"sessionid\":\"\",\"portnum\":\"\",\"dockermode\":\"docker\",\"totalRowCount\":14,\"rowLimit\":0,\"columnMetadata\":[{\"columnName\":\"Run_ID\",\"columnTypeName\":\"INTEGER\"},{\"columnNumber\":1,\"columnName\":\"ParentRun_ID\",\"columnTypeName\":\"INTEGER\"},{\"columnNumber\":2,\"columnName\":\"Site_ID\",\"columnTypeName\":\"VARCHAR\",\"length\":128,\"scale\":128},{\"columnNumber\":3,\"columnName\":\"TableName\",\"columnTypeName\":\"VARCHAR\",\"length\":128,\"scale\":128},{\"columnNumber\":4,\"columnName\":\"StartDate\",\"columnTypeName\":\"DATE\"},{\"columnNumber\":5,\"columnName\":\"EndDate\",\"columnTypeName\":\"DATE\"},{\"columnNumber\":6,\"columnName\":\"CallingSP\",\"columnTypeName\":\"VARCHAR\",\"length\":128,\"scale\":128},{\"columnNumber\":7,\"columnName\":\"SQLVersion\",\"columnTypeName\":\"VARCHAR\",\"length\":128,\"scale\":128},{\"columnNumber\":8,\"columnName\":\"Run_Type\",\"columnTypeName\":\"VARCHAR\",\"length\":128,\"scale\":128},{\"columnNumber\":9,\"columnName\":\"Run_Status\",\"columnTypeName\":\"VARCHAR\",\"length\":128,\"scale\":128},{\"columnNumber\":10,\"columnName\":\"Run_User\",\"columnTypeName\":\"VARCHAR\",\"length\":128,\"scale\":128},{\"columnNumber\":11,\"columnName\":\"Run_TS\",\"columnTypeName\":\"TIMESTAMP\"}]}"
     },
     "output_type": "execute_result"
    }
   ],
   "source": [
    "select * from adlste_coa.coa_audit_runlog order by 1"
   ]
  },
  {
   "cell_type": "code",
   "execution_count": 38,
   "metadata": {},
   "outputs": [
    {
     "data": {
      "application/vnd.teradata.resultset": "[{\"CallingSP\":\"adlste_coa.sp_test\",\"End_TS\":\"2020-05-07 21:03:54\",\"Errors\":\"0\",\"LogDate\":\"2020-05-07\",\"Run_ID\":\"1\",\"Run_Type\":\"Test Run\",\"SQLVersion\":\"v1.15\",\"Site_ID\":\"test_SiteID\",\"Start_TS\":\"2020-05-07 21:03:41\",\"Steps\":\"3\",\"TableName\":\"adlste_coa.coat_audit_run\",\"Warnings\":\"0\"},{\"CallingSP\":\"adlste_coa.sp_test\",\"End_TS\":\"2020-05-07 21:04:37\",\"Errors\":\"0\",\"LogDate\":\"2020-05-07\",\"Run_ID\":\"4\",\"Run_Type\":\"Test Run\",\"SQLVersion\":\"v1.15\",\"Site_ID\":\"test_SiteID\",\"Start_TS\":\"2020-05-07 21:04:32\",\"Steps\":\"3\",\"TableName\":\"adlste_coa.coat_audit_run\",\"Warnings\":\"0\"},{\"CallingSP\":\"\",\"End_TS\":\"2020-05-07 21:45:46\",\"Errors\":\"0\",\"LogDate\":\"2020-05-07\",\"Run_ID\":\"7\",\"Run_Type\":\"normal run\",\"SQLVersion\":\"1.1\",\"Site_ID\":\"\",\"Start_TS\":\"2020-05-07 21:45:46\",\"Steps\":\"2\",\"TableName\":\"\",\"Warnings\":\"0\"},{\"CallingSP\":\"adlste_coa.sp_dat_dbcinfo\",\"End_TS\":\"2020-05-07 21:48:55\",\"Errors\":\"0\",\"LogDate\":\"2020-05-07\",\"Run_ID\":\"9\",\"Run_Type\":\"normal run\",\"SQLVersion\":\"1.1\",\"Site_ID\":\"\",\"Start_TS\":\"2020-05-07 21:48:55\",\"Steps\":\"2\",\"TableName\":\"adlste_coa.coat_dat_dbcinfo\",\"Warnings\":\"0\"},{\"CallingSP\":\"adlste_coa.sp_dat_dbcinfo\",\"End_TS\":\"2020-05-07 21:51:40\",\"Errors\":\"0\",\"LogDate\":\"2020-05-07\",\"Run_ID\":\"11\",\"Run_Type\":\"normal run\",\"SQLVersion\":\"1.1\",\"Site_ID\":\"Empty Table\",\"Start_TS\":\"2020-05-07 21:51:40\",\"Steps\":\"2\",\"TableName\":\"adlste_coa.coat_dat_dbcinfo\",\"Warnings\":\"0\"},{\"CallingSP\":\"adlste_coa.sp_dat_dbcinfo\",\"End_TS\":\"2020-05-07 21:53:28\",\"Errors\":\"0\",\"LogDate\":\"2020-05-07\",\"Run_ID\":\"13\",\"Run_Type\":\"normal run\",\"SQLVersion\":\"1.1\",\"Site_ID\":\"testsiteid123\",\"Start_TS\":\"2020-05-07 21:53:28\",\"Steps\":\"2\",\"TableName\":\"adlste_coa.coat_dat_dbcinfo\",\"Warnings\":\"0\"}]\n",
      "text/html": [
       "<div class = \"td-resultset-table-div\" style = \"max-height: 177px; overflow-y: auto\"><style> table {border: 1px solid rgb(207, 207, 207) !important; border-collapse: collapse !important; margin-top: 1px !important;} th {border: 1px solid rgb(198,198,198) !important; border-collapse: collapse !important; padding: 2px 5px !important; font-size: 13px !important; min-width:150px !important; max-width: 150px !important; white-space: nowrap !important; overflow:hidden !important; text-overflow:ellipsis !important;} tr:nth-child(even) {background: rgba(243, 243, 243, 0.75) !important;} td {border: 1px solid rgb(207, 207, 207) !important; border-collapse: collapse !important; padding: 2px 5px !important; font-size: 13px !important; min-width:150px !important; max-width: 150px !important; white-space: nowrap !important; overflow:hidden !important; text-overflow:ellipsis !important;}</style><table><thead><tr style= \"background: #efefef;\"><th>Run_ID</th><th>Site_ID</th><th>LogDate</th><th>TableName</th><th>CallingSP</th><th>SQLVersion</th><th>Run_Type</th><th>Steps</th><th>Errors</th><th>Warnings</th><th>Start_TS</th><th>End_TS</th></tr></thead><tr><td>1</td><td>test_SiteID</td><td>2020-05-07</td><td>adlste_coa.coat_audit_run</td><td>adlste_coa.sp_test</td><td>v1.15</td><td>Test Run</td><td>3</td><td>0</td><td>0</td><td>2020-05-07 21:03:41</td><td>2020-05-07 21:03:54</td></tr><tr><td>4</td><td>test_SiteID</td><td>2020-05-07</td><td>adlste_coa.coat_audit_run</td><td>adlste_coa.sp_test</td><td>v1.15</td><td>Test Run</td><td>3</td><td>0</td><td>0</td><td>2020-05-07 21:04:32</td><td>2020-05-07 21:04:37</td></tr><tr><td>7</td><td></td><td>2020-05-07</td><td></td><td></td><td>1.1</td><td>normal run</td><td>2</td><td>0</td><td>0</td><td>2020-05-07 21:45:46</td><td>2020-05-07 21:45:46</td></tr><tr><td>9</td><td></td><td>2020-05-07</td><td>adlste_coa.coat_dat_dbcinfo</td><td>adlste_coa.sp_dat_dbcinfo</td><td>1.1</td><td>normal run</td><td>2</td><td>0</td><td>0</td><td>2020-05-07 21:48:55</td><td>2020-05-07 21:48:55</td></tr><tr><td>11</td><td>Empty Table</td><td>2020-05-07</td><td>adlste_coa.coat_dat_dbcinfo</td><td>adlste_coa.sp_dat_dbcinfo</td><td>1.1</td><td>normal run</td><td>2</td><td>0</td><td>0</td><td>2020-05-07 21:51:40</td><td>2020-05-07 21:51:40</td></tr><tr><td>13</td><td>testsiteid123</td><td>2020-05-07</td><td>adlste_coa.coat_dat_dbcinfo</td><td>adlste_coa.sp_dat_dbcinfo</td><td>1.1</td><td>normal run</td><td>2</td><td>0</td><td>0</td><td>2020-05-07 21:53:28</td><td>2020-05-07 21:53:28</td></tr></table></div>"
      ]
     },
     "execution_count": 38,
     "metadata": {
      "application/vnd.teradata.resultset": "{\"resultSetID\":\"/home/jovyan/JupyterLabRoot/Teradata/Resultsets/2020.05.08_01.53.38.047_UTC\",\"historyID\":808,\"chunkID\":\"00001\",\"sessionid\":\"\",\"portnum\":\"\",\"dockermode\":\"docker\",\"totalRowCount\":6,\"rowLimit\":0,\"columnMetadata\":[{\"columnName\":\"Run_ID\",\"columnTypeName\":\"INTEGER\"},{\"columnNumber\":1,\"columnName\":\"Site_ID\",\"columnTypeName\":\"VARCHAR\",\"length\":128,\"scale\":128},{\"columnNumber\":2,\"columnName\":\"LogDate\",\"columnTypeName\":\"DATE\"},{\"columnNumber\":3,\"columnName\":\"TableName\",\"columnTypeName\":\"VARCHAR\",\"length\":128,\"scale\":128},{\"columnNumber\":4,\"columnName\":\"CallingSP\",\"columnTypeName\":\"VARCHAR\",\"length\":128,\"scale\":128},{\"columnNumber\":5,\"columnName\":\"SQLVersion\",\"columnTypeName\":\"VARCHAR\",\"length\":128,\"scale\":128},{\"columnNumber\":6,\"columnName\":\"Run_Type\",\"columnTypeName\":\"VARCHAR\",\"length\":128,\"scale\":128},{\"columnNumber\":7,\"columnName\":\"Steps\",\"columnTypeName\":\"INTEGER\"},{\"columnNumber\":8,\"columnName\":\"Errors\",\"columnTypeName\":\"INTEGER\"},{\"columnNumber\":9,\"columnName\":\"Warnings\",\"columnTypeName\":\"INTEGER\"},{\"columnNumber\":10,\"columnName\":\"Start_TS\",\"columnTypeName\":\"TIMESTAMP\"},{\"columnNumber\":11,\"columnName\":\"End_TS\",\"columnTypeName\":\"TIMESTAMP\"}]}"
     },
     "output_type": "execute_result"
    }
   ],
   "source": [
    "select * from adlste_coa.coa_audit_summary order by 1"
   ]
  },
  {
   "cell_type": "code",
   "execution_count": 4,
   "metadata": {},
   "outputs": [
    {
     "data": {
      "text/plain": [
       "Success: 0 rows affected"
      ]
     },
     "execution_count": 4,
     "metadata": {
      "application/vnd.teradata.resultset": ""
     },
     "output_type": "execute_result"
    }
   ],
   "source": []
  },
  {
   "cell_type": "markdown",
   "metadata": {},
   "source": [
    "## Test the Process"
   ]
  },
  {
   "cell_type": "code",
   "execution_count": 42,
   "metadata": {},
   "outputs": [
    {
     "data": {
      "text/plain": [
       "Success: 3 rows affected"
      ]
     },
     "execution_count": 42,
     "metadata": {
      "application/vnd.teradata.resultset": ""
     },
     "output_type": "execute_result"
    },
    {
     "data": {
      "application/vnd.teradata.resultset": "[{\"Account_Name\":\"Test_Account\",\"InfoData\":\"16.20.32.11\",\"InfoKey\":\"RELEASE\",\"Site_ID\":\"Test_SiteID\"},{\"Account_Name\":\"Test_Account\",\"InfoData\":\"16.20.32.11\",\"InfoKey\":\"VERSION\",\"Site_ID\":\"Test_SiteID\"},{\"Account_Name\":\"Test_Account\",\"InfoData\":\"Standard\",\"InfoKey\":\"LANGUAGE SUPPORT MODE\",\"Site_ID\":\"Test_SiteID\"},{\"Account_Name\":\"Test_Account\",\"InfoData\":\"16.20.32.11\",\"InfoKey\":\"RELEASE\",\"Site_ID\":\"Test_SiteID\"},{\"Account_Name\":\"Test_Account\",\"InfoData\":\"16.20.32.11\",\"InfoKey\":\"VERSION\",\"Site_ID\":\"Test_SiteID\"},{\"Account_Name\":\"Test_Account\",\"InfoData\":\"Standard\",\"InfoKey\":\"LANGUAGE SUPPORT MODE\",\"Site_ID\":\"Test_SiteID\"},{\"Account_Name\":\"Test_Account\",\"InfoData\":\"16.20.32.11\",\"InfoKey\":\"RELEASE\",\"Site_ID\":\"Test_SiteID\"},{\"Account_Name\":\"Test_Account\",\"InfoData\":\"16.20.32.11\",\"InfoKey\":\"VERSION\",\"Site_ID\":\"Test_SiteID\"},{\"Account_Name\":\"Test_Account\",\"InfoData\":\"Standard\",\"InfoKey\":\"LANGUAGE SUPPORT MODE\",\"Site_ID\":\"Test_SiteID\"}]\n",
      "text/html": [
       "<div class = \"td-resultset-table-div\" style = \"max-height: 237px; overflow-y: auto\"><style> table {border: 1px solid rgb(207, 207, 207) !important; border-collapse: collapse !important; margin-top: 1px !important;} th {border: 1px solid rgb(198,198,198) !important; border-collapse: collapse !important; padding: 2px 5px !important; font-size: 13px !important; min-width:150px !important; max-width: 150px !important; white-space: nowrap !important; overflow:hidden !important; text-overflow:ellipsis !important;} tr:nth-child(even) {background: rgba(243, 243, 243, 0.75) !important;} td {border: 1px solid rgb(207, 207, 207) !important; border-collapse: collapse !important; padding: 2px 5px !important; font-size: 13px !important; min-width:150px !important; max-width: 150px !important; white-space: nowrap !important; overflow:hidden !important; text-overflow:ellipsis !important;}</style><table><thead><tr style= \"background: #efefef;\"><th>Account_Name</th><th>Site_ID</th><th>InfoKey</th><th>InfoData</th></tr></thead><tr><td>Test_Account</td><td>Test_SiteID</td><td>RELEASE</td><td>16.20.32.11</td></tr><tr><td>Test_Account</td><td>Test_SiteID</td><td>VERSION</td><td>16.20.32.11</td></tr><tr><td>Test_Account</td><td>Test_SiteID</td><td>LANGUAGE SUPPORT MODE</td><td>Standard</td></tr><tr><td>Test_Account</td><td>Test_SiteID</td><td>RELEASE</td><td>16.20.32.11</td></tr><tr><td>Test_Account</td><td>Test_SiteID</td><td>VERSION</td><td>16.20.32.11</td></tr><tr><td>Test_Account</td><td>Test_SiteID</td><td>LANGUAGE SUPPORT MODE</td><td>Standard</td></tr><tr><td>Test_Account</td><td>Test_SiteID</td><td>RELEASE</td><td>16.20.32.11</td></tr><tr><td>Test_Account</td><td>Test_SiteID</td><td>VERSION</td><td>16.20.32.11</td></tr><tr><td>Test_Account</td><td>Test_SiteID</td><td>LANGUAGE SUPPORT MODE</td><td>Standard</td></tr></table></div>"
      ]
     },
     "execution_count": 42,
     "metadata": {
      "application/vnd.teradata.resultset": "{\"resultSetID\":\"/home/jovyan/JupyterLabRoot/Teradata/Resultsets/2020.05.07_00.13.25.752_UTC\",\"historyID\":500,\"chunkID\":\"00001\",\"sessionid\":\"\",\"portnum\":\"\",\"dockermode\":\"docker\",\"totalRowCount\":9,\"rowLimit\":0,\"columnMetadata\":[{\"columnName\":\"Account_Name\",\"columnTypeName\":\"VARCHAR\",\"length\":128,\"scale\":128},{\"columnNumber\":1,\"columnName\":\"Site_ID\",\"columnTypeName\":\"VARCHAR\",\"length\":128,\"scale\":128},{\"columnNumber\":2,\"columnName\":\"InfoKey\",\"columnTypeName\":\"VARCHAR\",\"length\":128,\"scale\":128},{\"columnNumber\":3,\"columnName\":\"InfoData\",\"columnTypeName\":\"VARCHAR\",\"length\":128,\"scale\":128}]}"
     },
     "output_type": "execute_result"
    }
   ],
   "source": [
    "insert into adlste_coa_stg.stg_dat_dbcinfo \n",
    "Select 'Test_Account',  'Test_SiteID', InfoKey, InfoData from dbc.dbcinfo;\n",
    "\n",
    "Select * from adlste_coa_stg.stg_dat_dbcinfo "
   ]
  },
  {
   "cell_type": "code",
   "execution_count": 43,
   "metadata": {},
   "outputs": [
    {
     "data": {
      "text/plain": [
       "Success: 0 rows affected"
      ]
     },
     "execution_count": 43,
     "metadata": {
      "application/vnd.teradata.resultset": ""
     },
     "output_type": "execute_result"
    }
   ],
   "source": [
    "call adlste_coa.sp_dat_dbcinfo('1.1');"
   ]
  },
  {
   "cell_type": "code",
   "execution_count": 44,
   "metadata": {},
   "outputs": [
    {
     "data": {
      "application/vnd.teradata.resultset": "[{\"Account_Name\":\"Test_Account\",\"InfoData\":\"Standard\",\"InfoKey\":\"LANGUAGE SUPPORT MODE\",\"LogDate\":\"2020-05-06\",\"Site_ID\":\"Test_SiteID\"},{\"Account_Name\":\"Test_Account\",\"InfoData\":\"16.20.32.11\",\"InfoKey\":\"RELEASE\",\"LogDate\":\"2020-05-06\",\"Site_ID\":\"Test_SiteID\"},{\"Account_Name\":\"Test_Account\",\"InfoData\":\"16.20.32.11\",\"InfoKey\":\"VERSION\",\"LogDate\":\"2020-05-06\",\"Site_ID\":\"Test_SiteID\"}]\n",
      "text/html": [
       "<div class = \"td-resultset-table-div\" style = \"max-height: 117px; overflow-y: auto\"><style> table {border: 1px solid rgb(207, 207, 207) !important; border-collapse: collapse !important; margin-top: 1px !important;} th {border: 1px solid rgb(198,198,198) !important; border-collapse: collapse !important; padding: 2px 5px !important; font-size: 13px !important; min-width:150px !important; max-width: 150px !important; white-space: nowrap !important; overflow:hidden !important; text-overflow:ellipsis !important;} tr:nth-child(even) {background: rgba(243, 243, 243, 0.75) !important;} td {border: 1px solid rgb(207, 207, 207) !important; border-collapse: collapse !important; padding: 2px 5px !important; font-size: 13px !important; min-width:150px !important; max-width: 150px !important; white-space: nowrap !important; overflow:hidden !important; text-overflow:ellipsis !important;}</style><table><thead><tr style= \"background: #efefef;\"><th>Account_Name</th><th>Site_ID</th><th>LogDate</th><th>InfoKey</th><th>InfoData</th></tr></thead><tr><td>Test_Account</td><td>Test_SiteID</td><td>2020-05-06</td><td>LANGUAGE SUPPORT MODE</td><td>Standard</td></tr><tr><td>Test_Account</td><td>Test_SiteID</td><td>2020-05-06</td><td>RELEASE</td><td>16.20.32.11</td></tr><tr><td>Test_Account</td><td>Test_SiteID</td><td>2020-05-06</td><td>VERSION</td><td>16.20.32.11</td></tr></table></div>"
      ]
     },
     "execution_count": 44,
     "metadata": {
      "application/vnd.teradata.resultset": "{\"resultSetID\":\"/home/jovyan/JupyterLabRoot/Teradata/Resultsets/2020.05.07_00.13.30.718_UTC\",\"historyID\":502,\"chunkID\":\"00001\",\"sessionid\":\"\",\"portnum\":\"\",\"dockermode\":\"docker\",\"totalRowCount\":3,\"rowLimit\":0,\"columnMetadata\":[{\"columnName\":\"Account_Name\",\"columnTypeName\":\"VARCHAR\",\"length\":128,\"scale\":128},{\"columnNumber\":1,\"columnName\":\"Site_ID\",\"columnTypeName\":\"VARCHAR\",\"length\":128,\"scale\":128},{\"columnNumber\":2,\"columnName\":\"LogDate\",\"columnTypeName\":\"DATE\"},{\"columnNumber\":3,\"columnName\":\"InfoKey\",\"columnTypeName\":\"VARCHAR\",\"length\":128,\"scale\":128},{\"columnNumber\":4,\"columnName\":\"InfoData\",\"columnTypeName\":\"VARCHAR\",\"length\":128,\"scale\":128}]}"
     },
     "output_type": "execute_result"
    }
   ],
   "source": [
    "Select * from adlste_coa.coa_dat_dbcinfo "
   ]
  },
  {
   "cell_type": "code",
   "execution_count": null,
   "metadata": {},
   "outputs": [],
   "source": []
  }
 ],
 "metadata": {
  "kernelspec": {
   "display_name": "Teradata SQL",
   "language": "Teradata SQL",
   "name": "teradatasql"
  },
  "language_info": {
   "codemirror_mode": "Teradata SQL",
   "file_extension": ".tdrs",
   "mimetype": "application/vnd.teradata.resultset",
   "name": "Teradata SQL",
   "nbconvert_exporter": "",
   "pygments_lexer": "",
   "version": "16.20"
  }
 },
 "nbformat": 4,
 "nbformat_minor": 2
}
