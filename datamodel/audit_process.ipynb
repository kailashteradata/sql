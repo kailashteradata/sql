{
 "cells": [
  {
   "cell_type": "markdown",
   "metadata": {},
   "source": [
    "# Define Audit Process"
   ]
  },
  {
   "cell_type": "code",
   "execution_count": null,
   "metadata": {},
   "outputs": [],
   "source": [
    "%addconnect name=Transcend, user=sh186014, host=tdprdcop3.td.teradata.com, props=\"LOGMECH=LDAP\""
   ]
  },
  {
   "cell_type": "code",
   "execution_count": 1,
   "metadata": {},
   "outputs": [
    {
     "name": "stdin",
     "output_type": "stream",
     "text": [
      "Password ············\n"
     ]
    },
    {
     "name": "stdout",
     "output_type": "stream",
     "text": [
      "Success: 'Transcend' connection established\n"
     ]
    }
   ],
   "source": [
    "%connect name=Transcend"
   ]
  },
  {
   "cell_type": "code",
   "execution_count": 3,
   "metadata": {},
   "outputs": [
    {
     "data": {
      "text/plain": [
       "Success: 0 rows affected"
      ]
     },
     "execution_count": 3,
     "metadata": {
      "application/vnd.teradata.resultset": ""
     },
     "output_type": "execute_result"
    }
   ],
   "source": [
    "call adlste_coa.sp_meta_objects_refresh('none');"
   ]
  },
  {
   "cell_type": "code",
   "execution_count": 2,
   "metadata": {},
   "outputs": [
    {
     "data": {
      "application/vnd.teradata.resultset": "[{\"DatabaseName\":\"ADLSTE_COA\",\"ObjFunction\":\"Audit\",\"ObjType\":\"coa\",\"ProcessName\":\"Issues\",\"TableKind\":\"V \",\"TableName\":\"coa_Audit_Issues\"},{\"DatabaseName\":\"ADLSTE_COA\",\"ObjFunction\":\"audit\",\"ObjType\":\"coa\",\"ProcessName\":\"run\",\"TableKind\":\"V \",\"TableName\":\"coa_audit_run\"},{\"DatabaseName\":\"ADLSTE_COA\",\"ObjFunction\":\"Audit\",\"ObjType\":\"coa\",\"ProcessName\":\"Status\",\"TableKind\":\"V \",\"TableName\":\"coa_Audit_Status\"},{\"DatabaseName\":\"ADLSTE_COA\",\"ObjFunction\":\"Audit\",\"ObjType\":\"coat\",\"ProcessName\":\"Issues\",\"TableKind\":\"T \",\"TableName\":\"coat_Audit_Issues\"},{\"DatabaseName\":\"ADLSTE_COA\",\"ObjFunction\":\"audit\",\"ObjType\":\"coat\",\"ProcessName\":\"run\",\"TableKind\":\"T \",\"TableName\":\"coat_audit_run\"},{\"DatabaseName\":\"ADLSTE_COA\",\"ObjFunction\":\"Audit\",\"ObjType\":\"coat\",\"ProcessName\":\"Status\",\"TableKind\":\"T \",\"TableName\":\"coat_Audit_Status\"},{\"DatabaseName\":\"ADLSTE_COA\",\"ObjFunction\":\"audit\",\"ObjType\":\"sp\",\"ProcessName\":\"Account_Name\",\"TableKind\":\"P \",\"TableName\":\"sp_audit_Account_Name\"},{\"DatabaseName\":\"ADLSTE_COA\",\"ObjFunction\":\"audit\",\"ObjType\":\"sp\",\"ProcessName\":\"log_run\",\"TableKind\":\"P \",\"TableName\":\"sp_audit_log_run\"},{\"DatabaseName\":\"ADLSTE_COA\",\"ObjFunction\":\"audit\",\"ObjType\":\"sp\",\"ProcessName\":\"Site_ID\",\"TableKind\":\"P \",\"TableName\":\"sp_audit_Site_ID\"},{\"DatabaseName\":\"ADLSTE_COA\",\"ObjFunction\":\"audit\",\"ObjType\":\"sp\",\"ProcessName\":\"status_update\",\"TableKind\":\"P \",\"TableName\":\"sp_audit_status_update\"}]\n",
      "text/html": [
       "<div class = \"td-resultset-table-div\" style = \"max-height: 257px; overflow-y: auto\"><style> table {border: 1px solid rgb(207, 207, 207) !important; border-collapse: collapse !important; margin-top: 1px !important;} th {border: 1px solid rgb(198,198,198) !important; border-collapse: collapse !important; padding: 2px 5px !important; font-size: 13px !important; min-width:150px !important; max-width: 150px !important; white-space: nowrap !important; overflow:hidden !important; text-overflow:ellipsis !important;} tr:nth-child(even) {background: rgba(243, 243, 243, 0.75) !important;} td {border: 1px solid rgb(207, 207, 207) !important; border-collapse: collapse !important; padding: 2px 5px !important; font-size: 13px !important; min-width:150px !important; max-width: 150px !important; white-space: nowrap !important; overflow:hidden !important; text-overflow:ellipsis !important;}</style><table><thead><tr style= \"background: #efefef;\"><th>DatabaseName</th><th>TableName</th><th>TableKind</th><th>ObjType</th><th>ObjFunction</th><th>ProcessName</th></tr></thead><tr><td>ADLSTE_COA</td><td>coa_Audit_Issues</td><td>V </td><td>coa</td><td>Audit</td><td>Issues</td></tr><tr><td>ADLSTE_COA</td><td>coa_audit_run</td><td>V </td><td>coa</td><td>audit</td><td>run</td></tr><tr><td>ADLSTE_COA</td><td>coa_Audit_Status</td><td>V </td><td>coa</td><td>Audit</td><td>Status</td></tr><tr><td>ADLSTE_COA</td><td>coat_Audit_Issues</td><td>T </td><td>coat</td><td>Audit</td><td>Issues</td></tr><tr><td>ADLSTE_COA</td><td>coat_audit_run</td><td>T </td><td>coat</td><td>audit</td><td>run</td></tr><tr><td>ADLSTE_COA</td><td>coat_Audit_Status</td><td>T </td><td>coat</td><td>Audit</td><td>Status</td></tr><tr><td>ADLSTE_COA</td><td>sp_audit_Account_Name</td><td>P </td><td>sp</td><td>audit</td><td>Account_Name</td></tr><tr><td>ADLSTE_COA</td><td>sp_audit_log_run</td><td>P </td><td>sp</td><td>audit</td><td>log_run</td></tr><tr><td>ADLSTE_COA</td><td>sp_audit_Site_ID</td><td>P </td><td>sp</td><td>audit</td><td>Site_ID</td></tr><tr><td>ADLSTE_COA</td><td>sp_audit_status_update</td><td>P </td><td>sp</td><td>audit</td><td>status_update</td></tr></table></div>"
      ]
     },
     "execution_count": 2,
     "metadata": {
      "application/vnd.teradata.resultset": "{\"resultSetID\":\"/home/jovyan/JupyterLabRoot/Teradata/Resultsets/2020.05.08_00.24.10.381_UTC\",\"historyID\":664,\"chunkID\":\"00001\",\"sessionid\":\"\",\"portnum\":\"\",\"dockermode\":\"docker\",\"totalRowCount\":10,\"rowLimit\":0,\"columnMetadata\":[{\"columnName\":\"DatabaseName\",\"columnTypeName\":\"VARCHAR\",\"length\":128,\"scale\":128},{\"columnNumber\":1,\"columnName\":\"TableName\",\"columnTypeName\":\"VARCHAR\",\"length\":128,\"scale\":128},{\"columnNumber\":2,\"columnName\":\"TableKind\",\"columnTypeName\":\"CHAR\",\"length\":1,\"scale\":1},{\"columnNumber\":3,\"columnName\":\"ObjType\",\"columnTypeName\":\"VARCHAR\",\"length\":30,\"scale\":30},{\"columnNumber\":4,\"columnName\":\"ObjFunction\",\"columnTypeName\":\"VARCHAR\",\"length\":30,\"scale\":30},{\"columnNumber\":5,\"columnName\":\"ProcessName\",\"columnTypeName\":\"VARCHAR\",\"length\":30,\"scale\":30}]}"
     },
     "output_type": "execute_result"
    }
   ],
   "source": [
    "Select * from adlste_coa.coa_meta_objects\n",
    "where ObjFunction  = 'audit' \n",
    "order by ObjType, ProcessName,  ObjType desc;"
   ]
  },
  {
   "cell_type": "markdown",
   "metadata": {},
   "source": [
    "<br/><br/><br/>\n",
    "## Audit_Run (sub-stored_procedure)\n",
    "### for tracking audit columns per row while minimizing storage\n",
    "- database:    adlste_coa\n",
    "- table:       coat_audit_run\n",
    "- view:        coa_audit_run\n",
    "- stored proc: sp_audit_run"
   ]
  },
  {
   "cell_type": "code",
   "execution_count": 79,
   "metadata": {},
   "outputs": [
    {
     "ename": "ERROR",
     "evalue": "Unable to run SQL: Unable to run SQL query: Database reported error:3807:Object 'adlste_coa.coat_audit_runlog' does not exist.",
     "output_type": "error",
     "traceback": [
      "Unable to run SQL: Unable to run SQL query: Database reported error:3807:Object 'adlste_coa.coat_audit_runlog' does not exist."
     ]
    }
   ],
   "source": [
    "drop table adlste_coa.coat_audit_runlog"
   ]
  },
  {
   "cell_type": "code",
   "execution_count": 80,
   "metadata": {},
   "outputs": [
    {
     "data": {
      "text/plain": [
       "Success: 0 rows affected"
      ]
     },
     "execution_count": 80,
     "metadata": {
      "application/vnd.teradata.resultset": ""
     },
     "output_type": "execute_result"
    }
   ],
   "source": [
    "Create multiset table adlste_coa.coat_audit_runlog\n",
    "(\n",
    " Run_ID       INTEGER \n",
    ",ParentRun_ID INTEGER\n",
    ",Site_ID      VARCHAR(128)\n",
    ",TableName    VARCHAR(128)\n",
    ",StartDate    DATE\n",
    ",EndDate      DATE\n",
    ",CallingSP    VARCHAR(128)\n",
    ",SQLVersion   VARCHAR(128)\n",
    ",Run_Type     VARCHAR(128)\n",
    ",Run_Status   VARCHAR(128)\n",
    ",Run_User     VARCHAR(128) Default USER\n",
    ",Run_TS       Timestamp(0) Default Current_Timestamp(0)\n",
    ") \n",
    "primary index (Site_ID, TableName);"
   ]
  },
  {
   "cell_type": "code",
   "execution_count": 81,
   "metadata": {},
   "outputs": [
    {
     "data": {
      "text/plain": [
       "Success: 0 rows affected"
      ]
     },
     "execution_count": 81,
     "metadata": {
      "application/vnd.teradata.resultset": ""
     },
     "output_type": "execute_result"
    }
   ],
   "source": [
    "replace view adlste_coa.coa_audit_runlog \n",
    "as locking row for access\n",
    "Select * from adlste_coa.coat_audit_runlog"
   ]
  },
  {
   "cell_type": "code",
   "execution_count": 83,
   "metadata": {},
   "outputs": [
    {
     "data": {
      "text/plain": [
       "Success: 0 rows affected"
      ]
     },
     "execution_count": 83,
     "metadata": {
      "application/vnd.teradata.resultset": ""
     },
     "output_type": "execute_result"
    }
   ],
   "source": [
    "replace PROCEDURE adlste_coa.sp_audit_log (inout runid integer\n",
    "                                              ,in siteid varchar(128)\n",
    "                                              ,in tblname varchar(128)\n",
    "                                              ,in callingsp varchar(128)\n",
    "                                              ,in sqlversion varchar(128)\n",
    "                                              ,in startdate date\n",
    "                                              ,in enddate date\n",
    "                                              ,in runtype varchar(128)\n",
    "                                              ,in runstatus varchar(128)\n",
    "                                              )\n",
    "SQL SECURITY CREATOR\n",
    "BEGIN\n",
    "DECLARE runidout INTEGER;\n",
    "\n",
    "    SELECT coalesce(Max(Run_ID)+1,1) as Run_ID   INTO runidout \n",
    "    FROM adlste_coa.coat_audit_runlog \n",
    "    ;\n",
    "    \n",
    "    Insert into adlste_coa.coat_audit_runlog \n",
    "    values\n",
    "    ( :runidout\n",
    "     ,:runid --parentrunid\n",
    "     ,:siteid\n",
    "     ,:tblname\n",
    "     ,:startdate\n",
    "     ,:enddate\n",
    "     ,:callingsp\n",
    "     ,:sqlversion\n",
    "     ,:runtype\n",
    "     ,:runstatus\n",
    "     ,USER \n",
    "     ,Current_Timestamp(0)\n",
    "    );\n",
    "    \n",
    "    SET runid = runidout ;\n",
    "\n",
    "END;"
   ]
  },
  {
   "cell_type": "code",
   "execution_count": 84,
   "metadata": {},
   "outputs": [
    {
     "data": {
      "text/plain": [
       "Success: 0 rows affected"
      ]
     },
     "execution_count": 84,
     "metadata": {
      "application/vnd.teradata.resultset": ""
     },
     "output_type": "execute_result"
    }
   ],
   "source": [
    "-- delete from adlste_coa.coat_audit_runlog -- don't do this"
   ]
  },
  {
   "cell_type": "code",
   "execution_count": 92,
   "metadata": {},
   "outputs": [
    {
     "data": {
      "application/vnd.teradata.resultset": "[{\"runid\":\"4\"}]\n",
      "text/html": [
       "<div class = \"td-resultset-table-div\" style = \"max-height: 77px; overflow-y: auto\"><style> table {border: 1px solid rgb(207, 207, 207) !important; border-collapse: collapse !important; margin-top: 1px !important;} th {border: 1px solid rgb(198,198,198) !important; border-collapse: collapse !important; padding: 2px 5px !important; font-size: 13px !important; min-width:150px !important; max-width: 150px !important; white-space: nowrap !important; overflow:hidden !important; text-overflow:ellipsis !important;} tr:nth-child(even) {background: rgba(243, 243, 243, 0.75) !important;} td {border: 1px solid rgb(207, 207, 207) !important; border-collapse: collapse !important; padding: 2px 5px !important; font-size: 13px !important; min-width:150px !important; max-width: 150px !important; white-space: nowrap !important; overflow:hidden !important; text-overflow:ellipsis !important;}</style><table><thead><tr style= \"background: #efefef;\"><th>runid</th></tr></thead><tr><td>4</td></tr></table></div>"
      ]
     },
     "execution_count": 92,
     "metadata": {
      "application/vnd.teradata.resultset": "{\"resultSetID\":\"/home/jovyan/JupyterLabRoot/Teradata/Resultsets/2020.05.08_01.04.32.041_UTC\",\"historyID\":754,\"chunkID\":\"00001\",\"sessionid\":\"\",\"portnum\":\"\",\"dockermode\":\"docker\",\"totalRowCount\":1,\"rowLimit\":0,\"columnMetadata\":[{\"columnName\":\"runid\",\"columnTypeName\":\"BYTEINT\"}]}"
     },
     "output_type": "execute_result"
    },
    {
     "data": {
      "text/plain": [
       "Success: 0 rows affected"
      ]
     },
     "execution_count": 92,
     "metadata": {
      "application/vnd.teradata.resultset": ""
     },
     "output_type": "execute_result"
    }
   ],
   "source": [
    "-- start SP()\n",
    "CALL adlste_coa.sp_audit_log(0\n",
    "                            ,'test_SiteID'  -- Site_ID\n",
    "                            ,'adlste_coa.coat_audit_run'  -- Table Name\n",
    "                            ,'adlste_coa.sp_test'  -- Calling SP\n",
    "                            ,'v1.15'  -- StoredProc Version\n",
    "                            ,DATE-7 -- Start Date\n",
    "                            ,DATE-1 -- End Date\n",
    "                            ,'Test Run'  -- Run Type\n",
    "                            ,'START' );  -- Run Status"
   ]
  },
  {
   "cell_type": "code",
   "execution_count": 93,
   "metadata": {},
   "outputs": [
    {
     "data": {
      "application/vnd.teradata.resultset": "[{\"runid\":\"5\"}]\n",
      "text/html": [
       "<div class = \"td-resultset-table-div\" style = \"max-height: 77px; overflow-y: auto\"><style> table {border: 1px solid rgb(207, 207, 207) !important; border-collapse: collapse !important; margin-top: 1px !important;} th {border: 1px solid rgb(198,198,198) !important; border-collapse: collapse !important; padding: 2px 5px !important; font-size: 13px !important; min-width:150px !important; max-width: 150px !important; white-space: nowrap !important; overflow:hidden !important; text-overflow:ellipsis !important;} tr:nth-child(even) {background: rgba(243, 243, 243, 0.75) !important;} td {border: 1px solid rgb(207, 207, 207) !important; border-collapse: collapse !important; padding: 2px 5px !important; font-size: 13px !important; min-width:150px !important; max-width: 150px !important; white-space: nowrap !important; overflow:hidden !important; text-overflow:ellipsis !important;}</style><table><thead><tr style= \"background: #efefef;\"><th>runid</th></tr></thead><tr><td>5</td></tr></table></div>"
      ]
     },
     "execution_count": 93,
     "metadata": {
      "application/vnd.teradata.resultset": "{\"resultSetID\":\"/home/jovyan/JupyterLabRoot/Teradata/Resultsets/2020.05.08_01.04.34.830_UTC\",\"historyID\":755,\"chunkID\":\"00001\",\"sessionid\":\"\",\"portnum\":\"\",\"dockermode\":\"docker\",\"totalRowCount\":1,\"rowLimit\":0,\"columnMetadata\":[{\"columnName\":\"runid\",\"columnTypeName\":\"BYTEINT\"}]}"
     },
     "output_type": "execute_result"
    },
    {
     "data": {
      "text/plain": [
       "Success: 0 rows affected"
      ]
     },
     "execution_count": 93,
     "metadata": {
      "application/vnd.teradata.resultset": ""
     },
     "output_type": "execute_result"
    }
   ],
   "source": [
    "-- do stuff, but need a checkpoint \n",
    "-- (number above becomes last parameter below)\n",
    "call adlste_coa.sp_audit_log(4\n",
    "                            ,'test_SiteID'  -- Site_ID\n",
    "                            ,'adlste_coa.coat_audit_run'  -- Table Name\n",
    "                            ,'adlste_coa.sp_test'  -- Calling SP\n",
    "                            ,'v1.15'  -- StoredProc Version\n",
    "                            ,DATE-7 -- Start Date\n",
    "                            ,DATE-1 -- End Date\n",
    "                            ,'Test Run'  -- Run Type\n",
    "                            ,'CHECKPOINT' );  -- Run Status"
   ]
  },
  {
   "cell_type": "code",
   "execution_count": 94,
   "metadata": {},
   "outputs": [
    {
     "data": {
      "application/vnd.teradata.resultset": "[{\"runid\":\"6\"}]\n",
      "text/html": [
       "<div class = \"td-resultset-table-div\" style = \"max-height: 77px; overflow-y: auto\"><style> table {border: 1px solid rgb(207, 207, 207) !important; border-collapse: collapse !important; margin-top: 1px !important;} th {border: 1px solid rgb(198,198,198) !important; border-collapse: collapse !important; padding: 2px 5px !important; font-size: 13px !important; min-width:150px !important; max-width: 150px !important; white-space: nowrap !important; overflow:hidden !important; text-overflow:ellipsis !important;} tr:nth-child(even) {background: rgba(243, 243, 243, 0.75) !important;} td {border: 1px solid rgb(207, 207, 207) !important; border-collapse: collapse !important; padding: 2px 5px !important; font-size: 13px !important; min-width:150px !important; max-width: 150px !important; white-space: nowrap !important; overflow:hidden !important; text-overflow:ellipsis !important;}</style><table><thead><tr style= \"background: #efefef;\"><th>runid</th></tr></thead><tr><td>6</td></tr></table></div>"
      ]
     },
     "execution_count": 94,
     "metadata": {
      "application/vnd.teradata.resultset": "{\"resultSetID\":\"/home/jovyan/JupyterLabRoot/Teradata/Resultsets/2020.05.08_01.04.37.727_UTC\",\"historyID\":756,\"chunkID\":\"00001\",\"sessionid\":\"\",\"portnum\":\"\",\"dockermode\":\"docker\",\"totalRowCount\":1,\"rowLimit\":0,\"columnMetadata\":[{\"columnName\":\"runid\",\"columnTypeName\":\"BYTEINT\"}]}"
     },
     "output_type": "execute_result"
    },
    {
     "data": {
      "text/plain": [
       "Success: 0 rows affected"
      ]
     },
     "execution_count": 94,
     "metadata": {
      "application/vnd.teradata.resultset": ""
     },
     "output_type": "execute_result"
    }
   ],
   "source": [
    "-- end of SP()\n",
    "-- (number above becomes last parameter below)\n",
    "call adlste_coa.sp_audit_log(4\n",
    "                            ,'test_SiteID'  -- Site_ID\n",
    "                            ,'adlste_coa.coat_audit_run'  -- Table Name\n",
    "                            ,'adlste_coa.sp_test'  -- Calling SP\n",
    "                            ,'v1.15'  -- StoredProc Version\n",
    "                            ,DATE-7 -- Start Date\n",
    "                            ,DATE-1 -- End Date\n",
    "                            ,'Test Run'  -- Run Type\n",
    "                            ,'END'); -- Run Status"
   ]
  },
  {
   "cell_type": "code",
   "execution_count": 88,
   "metadata": {},
   "outputs": [
    {
     "data": {
      "application/vnd.teradata.resultset": "[{\"CallingSP\":\"adlste_coa.sp_test\",\"EndDate\":\"2020-05-06\",\"ParentRun_ID\":\"0\",\"Run_ID\":\"1\",\"Run_Status\":\"START\",\"Run_TS\":\"2020-05-07 21:03:41\",\"Run_Type\":\"Test Run\",\"Run_User\":\"SH186014\",\"SQLVersion\":\"v1.15\",\"Site_ID\":\"test_SiteID\",\"StartDate\":\"2020-04-30\",\"TableName\":\"adlste_coa.coat_audit_run\"},{\"CallingSP\":\"adlste_coa.sp_test\",\"EndDate\":\"2020-05-06\",\"ParentRun_ID\":\"1\",\"Run_ID\":\"2\",\"Run_Status\":\"CHECKPOINT\",\"Run_TS\":\"2020-05-07 21:03:48\",\"Run_Type\":\"Test Run\",\"Run_User\":\"SH186014\",\"SQLVersion\":\"v1.15\",\"Site_ID\":\"test_SiteID\",\"StartDate\":\"2020-04-30\",\"TableName\":\"adlste_coa.coat_audit_run\"},{\"CallingSP\":\"adlste_coa.sp_test\",\"EndDate\":\"2020-05-06\",\"ParentRun_ID\":\"1\",\"Run_ID\":\"3\",\"Run_Status\":\"END\",\"Run_TS\":\"2020-05-07 21:03:54\",\"Run_Type\":\"Test Run\",\"Run_User\":\"SH186014\",\"SQLVersion\":\"v1.15\",\"Site_ID\":\"test_SiteID\",\"StartDate\":\"2020-04-30\",\"TableName\":\"adlste_coa.coat_audit_run\"}]\n",
      "text/html": [
       "<div class = \"td-resultset-table-div\" style = \"max-height: 117px; overflow-y: auto\"><style> table {border: 1px solid rgb(207, 207, 207) !important; border-collapse: collapse !important; margin-top: 1px !important;} th {border: 1px solid rgb(198,198,198) !important; border-collapse: collapse !important; padding: 2px 5px !important; font-size: 13px !important; min-width:150px !important; max-width: 150px !important; white-space: nowrap !important; overflow:hidden !important; text-overflow:ellipsis !important;} tr:nth-child(even) {background: rgba(243, 243, 243, 0.75) !important;} td {border: 1px solid rgb(207, 207, 207) !important; border-collapse: collapse !important; padding: 2px 5px !important; font-size: 13px !important; min-width:150px !important; max-width: 150px !important; white-space: nowrap !important; overflow:hidden !important; text-overflow:ellipsis !important;}</style><table><thead><tr style= \"background: #efefef;\"><th>Run_ID</th><th>ParentRun_ID</th><th>Site_ID</th><th>TableName</th><th>StartDate</th><th>EndDate</th><th>CallingSP</th><th>SQLVersion</th><th>Run_Type</th><th>Run_Status</th><th>Run_User</th><th>Run_TS</th></tr></thead><tr><td>1</td><td>0</td><td>test_SiteID</td><td>adlste_coa.coat_audit_run</td><td>2020-04-30</td><td>2020-05-06</td><td>adlste_coa.sp_test</td><td>v1.15</td><td>Test Run</td><td>START</td><td>SH186014</td><td>2020-05-07 21:03:41</td></tr><tr><td>2</td><td>1</td><td>test_SiteID</td><td>adlste_coa.coat_audit_run</td><td>2020-04-30</td><td>2020-05-06</td><td>adlste_coa.sp_test</td><td>v1.15</td><td>Test Run</td><td>CHECKPOINT</td><td>SH186014</td><td>2020-05-07 21:03:48</td></tr><tr><td>3</td><td>1</td><td>test_SiteID</td><td>adlste_coa.coat_audit_run</td><td>2020-04-30</td><td>2020-05-06</td><td>adlste_coa.sp_test</td><td>v1.15</td><td>Test Run</td><td>END</td><td>SH186014</td><td>2020-05-07 21:03:54</td></tr></table></div>"
      ]
     },
     "execution_count": 88,
     "metadata": {
      "application/vnd.teradata.resultset": "{\"resultSetID\":\"/home/jovyan/JupyterLabRoot/Teradata/Resultsets/2020.05.08_01.04.16.205_UTC\",\"historyID\":750,\"chunkID\":\"00001\",\"sessionid\":\"\",\"portnum\":\"\",\"dockermode\":\"docker\",\"totalRowCount\":3,\"rowLimit\":0,\"columnMetadata\":[{\"columnName\":\"Run_ID\",\"columnTypeName\":\"INTEGER\"},{\"columnNumber\":1,\"columnName\":\"ParentRun_ID\",\"columnTypeName\":\"INTEGER\"},{\"columnNumber\":2,\"columnName\":\"Site_ID\",\"columnTypeName\":\"VARCHAR\",\"length\":128,\"scale\":128},{\"columnNumber\":3,\"columnName\":\"TableName\",\"columnTypeName\":\"VARCHAR\",\"length\":128,\"scale\":128},{\"columnNumber\":4,\"columnName\":\"StartDate\",\"columnTypeName\":\"DATE\"},{\"columnNumber\":5,\"columnName\":\"EndDate\",\"columnTypeName\":\"DATE\"},{\"columnNumber\":6,\"columnName\":\"CallingSP\",\"columnTypeName\":\"VARCHAR\",\"length\":128,\"scale\":128},{\"columnNumber\":7,\"columnName\":\"SQLVersion\",\"columnTypeName\":\"VARCHAR\",\"length\":128,\"scale\":128},{\"columnNumber\":8,\"columnName\":\"Run_Type\",\"columnTypeName\":\"VARCHAR\",\"length\":128,\"scale\":128},{\"columnNumber\":9,\"columnName\":\"Run_Status\",\"columnTypeName\":\"VARCHAR\",\"length\":128,\"scale\":128},{\"columnNumber\":10,\"columnName\":\"Run_User\",\"columnTypeName\":\"VARCHAR\",\"length\":128,\"scale\":128},{\"columnNumber\":11,\"columnName\":\"Run_TS\",\"columnTypeName\":\"TIMESTAMP\"}]}"
     },
     "output_type": "execute_result"
    }
   ],
   "source": [
    "Select * from adlste_coa.coat_audit_runlog"
   ]
  },
  {
   "cell_type": "code",
   "execution_count": 90,
   "metadata": {},
   "outputs": [
    {
     "data": {
      "text/plain": [
       "Success: 13 rows affected"
      ]
     },
     "execution_count": 90,
     "metadata": {
      "application/vnd.teradata.resultset": ""
     },
     "output_type": "execute_result"
    }
   ],
   "source": [
    "replace view adlste_coa.coa_audit_summary   as locking row for access\n",
    "Select \n",
    " case when ParentRun_ID=0 then Run_ID else ParentRun_ID end as Run_ID\n",
    ",Site_ID\n",
    ",min(cast(Run_TS as DATE)) as LogDate\n",
    ",TableName\n",
    ",CallingSP\n",
    ",SQLVersion\n",
    ",Run_Type\n",
    ",count(*) as Steps\n",
    ",sum(case when Run_Status='ERROR' then 1 else 0 end) as Errors\n",
    ",sum(case when Run_Status='WARNING' then 1 else 0 end) as Warnings\n",
    ",min(case when Run_Status='START' then Run_TS else NULL end) as Start_TS\n",
    ",max(case when Run_Status='END' then Run_TS else NULL end) as End_TS\n",
    "from adlste_coa.coa_audit_runlog\n",
    "Group by 1,2,4,5,6,7"
   ]
  },
  {
   "cell_type": "code",
   "execution_count": 95,
   "metadata": {},
   "outputs": [
    {
     "data": {
      "application/vnd.teradata.resultset": "[{\"CallingSP\":\"adlste_coa.sp_test\",\"End_TS\":\"2020-05-07 21:03:54\",\"Errors\":\"0\",\"LogDate\":\"2020-05-07\",\"Run_ID\":\"1\",\"Run_Type\":\"Test Run\",\"SQLVersion\":\"v1.15\",\"Site_ID\":\"test_SiteID\",\"Start_TS\":\"2020-05-07 21:03:41\",\"Steps\":\"3\",\"TableName\":\"adlste_coa.coat_audit_run\",\"Warnings\":\"0\"},{\"CallingSP\":\"adlste_coa.sp_test\",\"End_TS\":\"2020-05-07 21:04:37\",\"Errors\":\"0\",\"LogDate\":\"2020-05-07\",\"Run_ID\":\"4\",\"Run_Type\":\"Test Run\",\"SQLVersion\":\"v1.15\",\"Site_ID\":\"test_SiteID\",\"Start_TS\":\"2020-05-07 21:04:32\",\"Steps\":\"3\",\"TableName\":\"adlste_coa.coat_audit_run\",\"Warnings\":\"0\"}]\n",
      "text/html": [
       "<div class = \"td-resultset-table-div\" style = \"max-height: 97px; overflow-y: auto\"><style> table {border: 1px solid rgb(207, 207, 207) !important; border-collapse: collapse !important; margin-top: 1px !important;} th {border: 1px solid rgb(198,198,198) !important; border-collapse: collapse !important; padding: 2px 5px !important; font-size: 13px !important; min-width:150px !important; max-width: 150px !important; white-space: nowrap !important; overflow:hidden !important; text-overflow:ellipsis !important;} tr:nth-child(even) {background: rgba(243, 243, 243, 0.75) !important;} td {border: 1px solid rgb(207, 207, 207) !important; border-collapse: collapse !important; padding: 2px 5px !important; font-size: 13px !important; min-width:150px !important; max-width: 150px !important; white-space: nowrap !important; overflow:hidden !important; text-overflow:ellipsis !important;}</style><table><thead><tr style= \"background: #efefef;\"><th>Run_ID</th><th>Site_ID</th><th>LogDate</th><th>TableName</th><th>CallingSP</th><th>SQLVersion</th><th>Run_Type</th><th>Steps</th><th>Errors</th><th>Warnings</th><th>Start_TS</th><th>End_TS</th></tr></thead><tr><td>1</td><td>test_SiteID</td><td>2020-05-07</td><td>adlste_coa.coat_audit_run</td><td>adlste_coa.sp_test</td><td>v1.15</td><td>Test Run</td><td>3</td><td>0</td><td>0</td><td>2020-05-07 21:03:41</td><td>2020-05-07 21:03:54</td></tr><tr><td>4</td><td>test_SiteID</td><td>2020-05-07</td><td>adlste_coa.coat_audit_run</td><td>adlste_coa.sp_test</td><td>v1.15</td><td>Test Run</td><td>3</td><td>0</td><td>0</td><td>2020-05-07 21:04:32</td><td>2020-05-07 21:04:37</td></tr></table></div>"
      ]
     },
     "execution_count": 95,
     "metadata": {
      "application/vnd.teradata.resultset": "{\"resultSetID\":\"/home/jovyan/JupyterLabRoot/Teradata/Resultsets/2020.05.08_01.04.40.535_UTC\",\"historyID\":757,\"chunkID\":\"00001\",\"sessionid\":\"\",\"portnum\":\"\",\"dockermode\":\"docker\",\"totalRowCount\":2,\"rowLimit\":0,\"columnMetadata\":[{\"columnName\":\"Run_ID\",\"columnTypeName\":\"INTEGER\"},{\"columnNumber\":1,\"columnName\":\"Site_ID\",\"columnTypeName\":\"VARCHAR\",\"length\":128,\"scale\":128},{\"columnNumber\":2,\"columnName\":\"LogDate\",\"columnTypeName\":\"DATE\"},{\"columnNumber\":3,\"columnName\":\"TableName\",\"columnTypeName\":\"VARCHAR\",\"length\":128,\"scale\":128},{\"columnNumber\":4,\"columnName\":\"CallingSP\",\"columnTypeName\":\"VARCHAR\",\"length\":128,\"scale\":128},{\"columnNumber\":5,\"columnName\":\"SQLVersion\",\"columnTypeName\":\"VARCHAR\",\"length\":128,\"scale\":128},{\"columnNumber\":6,\"columnName\":\"Run_Type\",\"columnTypeName\":\"VARCHAR\",\"length\":128,\"scale\":128},{\"columnNumber\":7,\"columnName\":\"Steps\",\"columnTypeName\":\"INTEGER\"},{\"columnNumber\":8,\"columnName\":\"Errors\",\"columnTypeName\":\"INTEGER\"},{\"columnNumber\":9,\"columnName\":\"Warnings\",\"columnTypeName\":\"INTEGER\"},{\"columnNumber\":10,\"columnName\":\"Start_TS\",\"columnTypeName\":\"TIMESTAMP\"},{\"columnNumber\":11,\"columnName\":\"End_TS\",\"columnTypeName\":\"TIMESTAMP\"}]}"
     },
     "output_type": "execute_result"
    }
   ],
   "source": [
    "select * from adlste_coa.coa_audit_summary order by 1"
   ]
  },
  {
   "cell_type": "code",
   "execution_count": null,
   "metadata": {},
   "outputs": [],
   "source": []
  }
 ],
 "metadata": {
  "kernelspec": {
   "display_name": "Teradata SQL",
   "language": "Teradata SQL",
   "name": "teradatasql"
  },
  "language_info": {
   "codemirror_mode": "Teradata SQL",
   "file_extension": ".tdrs",
   "mimetype": "application/vnd.teradata.resultset",
   "name": "Teradata SQL",
   "nbconvert_exporter": "",
   "pygments_lexer": "",
   "version": "16.20"
  }
 },
 "nbformat": 4,
 "nbformat_minor": 2
}
