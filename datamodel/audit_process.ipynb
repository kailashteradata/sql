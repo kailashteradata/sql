{
 "cells": [
  {
   "cell_type": "markdown",
   "metadata": {},
   "source": [
    "# Define Audit Process"
   ]
  },
  {
   "cell_type": "code",
   "execution_count": 1,
   "metadata": {},
   "outputs": [
    {
     "ename": "ERROR",
     "evalue": "Connection with the name 'Transcend' already exists",
     "output_type": "error",
     "traceback": [
      "Connection with the name 'Transcend' already exists"
     ]
    }
   ],
   "source": [
    "%addconnect name=Transcend, user=sh186014, host=tdprdcop3.td.teradata.com, props=\"LOGMECH=LDAP\""
   ]
  },
  {
   "cell_type": "code",
   "execution_count": 2,
   "metadata": {},
   "outputs": [
    {
     "name": "stdin",
     "output_type": "stream",
     "text": [
      "Password ············\n"
     ]
    },
    {
     "name": "stdout",
     "output_type": "stream",
     "text": [
      "Success: 'Transcend' connection established\n"
     ]
    }
   ],
   "source": [
    "%connect name=Transcend"
   ]
  },
  {
   "cell_type": "code",
   "execution_count": 35,
   "metadata": {},
   "outputs": [
    {
     "data": {
      "text/plain": [
       "Success: 0 rows affected"
      ]
     },
     "execution_count": 35,
     "metadata": {
      "application/vnd.teradata.resultset": ""
     },
     "output_type": "execute_result"
    }
   ],
   "source": [
    "call adlste_coa.sp_meta_objects_refresh('none');"
   ]
  },
  {
   "cell_type": "code",
   "execution_count": 38,
   "metadata": {},
   "outputs": [
    {
     "data": {
      "application/vnd.teradata.resultset": "[{\"DatabaseName\":\"ADLSTE_COA\",\"ObjFunction\":\"Audit\",\"ObjType\":\"coa\",\"ProcessName\":\"Issues\",\"TableKind\":\"V \",\"TableName\":\"coa_Audit_Issues\"},{\"DatabaseName\":\"ADLSTE_COA\",\"ObjFunction\":\"Audit\",\"ObjType\":\"coa\",\"ProcessName\":\"Status\",\"TableKind\":\"V \",\"TableName\":\"coa_Audit_Status\"},{\"DatabaseName\":\"ADLSTE_COA\",\"ObjFunction\":\"Audit\",\"ObjType\":\"coat\",\"ProcessName\":\"Issues\",\"TableKind\":\"T \",\"TableName\":\"coat_Audit_Issues\"},{\"DatabaseName\":\"ADLSTE_COA\",\"ObjFunction\":\"Audit\",\"ObjType\":\"coat\",\"ProcessName\":\"Status\",\"TableKind\":\"T \",\"TableName\":\"coat_Audit_Status\"},{\"DatabaseName\":\"ADLSTE_COA\",\"ObjFunction\":\"audit\",\"ObjType\":\"sp\",\"ProcessName\":\"Account_Name\",\"TableKind\":\"P \",\"TableName\":\"sp_audit_Account_Name\"},{\"DatabaseName\":\"ADLSTE_COA\",\"ObjFunction\":\"audit\",\"ObjType\":\"sp\",\"ProcessName\":\"Site_ID\",\"TableKind\":\"P \",\"TableName\":\"sp_audit_Site_ID\"},{\"DatabaseName\":\"ADLSTE_COA\",\"ObjFunction\":\"audit\",\"ObjType\":\"sp\",\"ProcessName\":\"status_update\",\"TableKind\":\"P \",\"TableName\":\"sp_audit_status_update\"}]\n",
      "text/html": [
       "<div class = \"td-resultset-table-div\" style = \"max-height: 197px; overflow-y: auto\"><style> table {border: 1px solid rgb(207, 207, 207) !important; border-collapse: collapse !important; margin-top: 1px !important;} th {border: 1px solid rgb(198,198,198) !important; border-collapse: collapse !important; padding: 2px 5px !important; font-size: 13px !important; min-width:150px !important; max-width: 150px !important; white-space: nowrap !important; overflow:hidden !important; text-overflow:ellipsis !important;} tr:nth-child(even) {background: rgba(243, 243, 243, 0.75) !important;} td {border: 1px solid rgb(207, 207, 207) !important; border-collapse: collapse !important; padding: 2px 5px !important; font-size: 13px !important; min-width:150px !important; max-width: 150px !important; white-space: nowrap !important; overflow:hidden !important; text-overflow:ellipsis !important;}</style><table><thead><tr style= \"background: #efefef;\"><th>DatabaseName</th><th>TableName</th><th>TableKind</th><th>ObjType</th><th>ObjFunction</th><th>ProcessName</th></tr></thead><tr><td>ADLSTE_COA</td><td>coa_Audit_Issues</td><td>V </td><td>coa</td><td>Audit</td><td>Issues</td></tr><tr><td>ADLSTE_COA</td><td>coa_Audit_Status</td><td>V </td><td>coa</td><td>Audit</td><td>Status</td></tr><tr><td>ADLSTE_COA</td><td>coat_Audit_Issues</td><td>T </td><td>coat</td><td>Audit</td><td>Issues</td></tr><tr><td>ADLSTE_COA</td><td>coat_Audit_Status</td><td>T </td><td>coat</td><td>Audit</td><td>Status</td></tr><tr><td>ADLSTE_COA</td><td>sp_audit_Account_Name</td><td>P </td><td>sp</td><td>audit</td><td>Account_Name</td></tr><tr><td>ADLSTE_COA</td><td>sp_audit_Site_ID</td><td>P </td><td>sp</td><td>audit</td><td>Site_ID</td></tr><tr><td>ADLSTE_COA</td><td>sp_audit_status_update</td><td>P </td><td>sp</td><td>audit</td><td>status_update</td></tr></table></div>"
      ]
     },
     "execution_count": 38,
     "metadata": {
      "application/vnd.teradata.resultset": "{\"resultSetID\":\"/home/jovyan/JupyterLabRoot/Teradata/Resultsets/2020.04.28_23.59.05.643_UTC\",\"historyID\":215,\"chunkID\":\"00001\",\"sessionid\":\"\",\"portnum\":\"\",\"dockermode\":\"docker\",\"totalRowCount\":7,\"rowLimit\":0,\"columnMetadata\":[{\"columnName\":\"DatabaseName\",\"columnTypeName\":\"VARCHAR\",\"length\":128,\"scale\":128},{\"columnNumber\":1,\"columnName\":\"TableName\",\"columnTypeName\":\"VARCHAR\",\"length\":128,\"scale\":128},{\"columnNumber\":2,\"columnName\":\"TableKind\",\"columnTypeName\":\"CHAR\",\"length\":1,\"scale\":1},{\"columnNumber\":3,\"columnName\":\"ObjType\",\"columnTypeName\":\"VARCHAR\",\"length\":30,\"scale\":30},{\"columnNumber\":4,\"columnName\":\"ObjFunction\",\"columnTypeName\":\"VARCHAR\",\"length\":30,\"scale\":30},{\"columnNumber\":5,\"columnName\":\"ProcessName\",\"columnTypeName\":\"VARCHAR\",\"length\":30,\"scale\":30}]}"
     },
     "output_type": "execute_result"
    }
   ],
   "source": [
    "Select * from adlste_coa.coa_meta_objects\n",
    "where ObjFunction  = 'audit' \n",
    "order by ObjType, ProcessName,  ObjType desc;"
   ]
  },
  {
   "cell_type": "markdown",
   "metadata": {},
   "source": [
    "<br/><br/><br/>\n",
    "## Audit_Run (sub-stored_procedure)\n",
    "### for tracking audit columns per row while minimizing storage\n",
    "- database:    adlste_coa\n",
    "- table:       coat_audit_run\n",
    "- view:        coa_audit_run\n",
    "- stored proc: sp_audit_run"
   ]
  },
  {
   "cell_type": "code",
   "execution_count": 48,
   "metadata": {},
   "outputs": [
    {
     "data": {
      "text/plain": [
       "Success: 21 rows affected"
      ]
     },
     "execution_count": 48,
     "metadata": {
      "application/vnd.teradata.resultset": ""
     },
     "output_type": "execute_result"
    }
   ],
   "source": [
    "drop table adlste_coa.coat_audit_run"
   ]
  },
  {
   "cell_type": "code",
   "execution_count": 78,
   "metadata": {},
   "outputs": [
    {
     "data": {
      "text/plain": [
       "Success: 0 rows affected"
      ]
     },
     "execution_count": 78,
     "metadata": {
      "application/vnd.teradata.resultset": ""
     },
     "output_type": "execute_result"
    }
   ],
   "source": [
    "Create multiset table adlste_coa.coat_audit_run\n",
    "(\n",
    " Run_ID     INTEGER \n",
    ",Site_ID    VARCHAR(128)\n",
    ",Run_Type   VARCHAR(128)\n",
    ",Run_Status VARCHAR(128)\n",
    ",Run_User   VARCHAR(128) Default USER\n",
    ",Run_TS     Timestamp(0) Default Current_Timestamp(0)\n",
    ") \n",
    "primary index (Site_ID);"
   ]
  },
  {
   "cell_type": "code",
   "execution_count": 100,
   "metadata": {},
   "outputs": [
    {
     "data": {
      "text/plain": [
       "Success: 0 rows affected"
      ]
     },
     "execution_count": 100,
     "metadata": {
      "application/vnd.teradata.resultset": ""
     },
     "output_type": "execute_result"
    }
   ],
   "source": [
    "replace PROCEDURE adlste_coa.sp_audit_log_run (in siteid varchar(128)\n",
    "                                              ,in runtype varchar(128)\n",
    "                                              ,in runstatus varchar(128)\n",
    "                                              ,inout runid integer)\n",
    "SQL SECURITY CREATOR\n",
    "BEGIN\n",
    "DECLARE runidout INTEGER;\n",
    "\n",
    "    Insert into adlste_coa.coat_audit_run \n",
    "    (Run_ID, Site_ID, Run_Type, Run_Status)\n",
    "        Select \n",
    "        coalesce(max(Run_ID+1),1) as Run_ID\n",
    "        ,:siteid as Site_ID  \n",
    "        ,:runtype as  Run_Type\n",
    "        ,:runstatus as Run_Status\n",
    "        from adlste_coa.coat_audit_run\n",
    "        where Site_ID = :siteid ;\n",
    "     \n",
    "     SELECT Max(Run_ID) as Run_ID INTO runidout \n",
    "     FROM adlste_coa.coat_audit_run WHERE Site_ID = :siteid ;\n",
    "     SET runid = runidout;\n",
    "\n",
    "END;"
   ]
  },
  {
   "cell_type": "code",
   "execution_count": 101,
   "metadata": {},
   "outputs": [
    {
     "data": {
      "application/vnd.teradata.resultset": "[{\"runid\":\"4\"}]\n",
      "text/html": [
       "<div class = \"td-resultset-table-div\" style = \"max-height: 77px; overflow-y: auto\"><style> table {border: 1px solid rgb(207, 207, 207) !important; border-collapse: collapse !important; margin-top: 1px !important;} th {border: 1px solid rgb(198,198,198) !important; border-collapse: collapse !important; padding: 2px 5px !important; font-size: 13px !important; min-width:150px !important; max-width: 150px !important; white-space: nowrap !important; overflow:hidden !important; text-overflow:ellipsis !important;} tr:nth-child(even) {background: rgba(243, 243, 243, 0.75) !important;} td {border: 1px solid rgb(207, 207, 207) !important; border-collapse: collapse !important; padding: 2px 5px !important; font-size: 13px !important; min-width:150px !important; max-width: 150px !important; white-space: nowrap !important; overflow:hidden !important; text-overflow:ellipsis !important;}</style><table><thead><tr style= \"background: #efefef;\"><th>runid</th></tr></thead><tr><td>4</td></tr></table></div>"
      ]
     },
     "execution_count": 101,
     "metadata": {
      "application/vnd.teradata.resultset": "{\"resultSetID\":\"/home/jovyan/JupyterLabRoot/Teradata/Resultsets/2020.04.29_00.43.18.613_UTC\",\"historyID\":281,\"chunkID\":\"00001\",\"sessionid\":\"\",\"portnum\":\"\",\"dockermode\":\"docker\",\"totalRowCount\":1,\"rowLimit\":0,\"columnMetadata\":[{\"columnName\":\"runid\",\"columnTypeName\":\"BYTEINT\"}]}"
     },
     "output_type": "execute_result"
    }
   ],
   "source": [
    "call adlste_coa.sp_audit_log_run('Test','new insert','executing',0)"
   ]
  },
  {
   "cell_type": "code",
   "execution_count": 98,
   "metadata": {},
   "outputs": [
    {
     "data": {
      "text/plain": [
       "Success: 0 rows affected"
      ]
     },
     "execution_count": 98,
     "metadata": {
      "application/vnd.teradata.resultset": ""
     },
     "output_type": "execute_result"
    }
   ],
   "source": [
    "replace view adlste_coa.coa_audit_run \n",
    "as locking row for access\n",
    "Select * from adlste_coa.coat_audit_run"
   ]
  },
  {
   "cell_type": "code",
   "execution_count": 102,
   "metadata": {},
   "outputs": [
    {
     "data": {
      "application/vnd.teradata.resultset": "[{\"Run_ID\":\"1\",\"Run_Status\":\"executing\",\"Run_TS\":\"2020-04-28 20:37:13\",\"Run_Type\":\"new insert\",\"Run_User\":\"SH186014\",\"Site_ID\":\"Test\"},{\"Run_ID\":\"2\",\"Run_Status\":\"executing\",\"Run_TS\":\"2020-04-28 20:37:48\",\"Run_Type\":\"new insert\",\"Run_User\":\"SH186014\",\"Site_ID\":\"Test\"},{\"Run_ID\":\"3\",\"Run_Status\":\"executing\",\"Run_TS\":\"2020-04-28 20:37:52\",\"Run_Type\":\"new insert\",\"Run_User\":\"SH186014\",\"Site_ID\":\"Test\"},{\"Run_ID\":\"4\",\"Run_Status\":\"executing\",\"Run_TS\":\"2020-04-28 20:43:18\",\"Run_Type\":\"new insert\",\"Run_User\":\"SH186014\",\"Site_ID\":\"Test\"}]\n",
      "text/html": [
       "<div class = \"td-resultset-table-div\" style = \"max-height: 137px; overflow-y: auto\"><style> table {border: 1px solid rgb(207, 207, 207) !important; border-collapse: collapse !important; margin-top: 1px !important;} th {border: 1px solid rgb(198,198,198) !important; border-collapse: collapse !important; padding: 2px 5px !important; font-size: 13px !important; min-width:150px !important; max-width: 150px !important; white-space: nowrap !important; overflow:hidden !important; text-overflow:ellipsis !important;} tr:nth-child(even) {background: rgba(243, 243, 243, 0.75) !important;} td {border: 1px solid rgb(207, 207, 207) !important; border-collapse: collapse !important; padding: 2px 5px !important; font-size: 13px !important; min-width:150px !important; max-width: 150px !important; white-space: nowrap !important; overflow:hidden !important; text-overflow:ellipsis !important;}</style><table><thead><tr style= \"background: #efefef;\"><th>Run_ID</th><th>Site_ID</th><th>Run_Type</th><th>Run_Status</th><th>Run_User</th><th>Run_TS</th></tr></thead><tr><td>1</td><td>Test</td><td>new insert</td><td>executing</td><td>SH186014</td><td>2020-04-28 20:37:13</td></tr><tr><td>2</td><td>Test</td><td>new insert</td><td>executing</td><td>SH186014</td><td>2020-04-28 20:37:48</td></tr><tr><td>3</td><td>Test</td><td>new insert</td><td>executing</td><td>SH186014</td><td>2020-04-28 20:37:52</td></tr><tr><td>4</td><td>Test</td><td>new insert</td><td>executing</td><td>SH186014</td><td>2020-04-28 20:43:18</td></tr></table></div>"
      ]
     },
     "execution_count": 102,
     "metadata": {
      "application/vnd.teradata.resultset": "{\"resultSetID\":\"/home/jovyan/JupyterLabRoot/Teradata/Resultsets/2020.04.29_00.43.22.060_UTC\",\"historyID\":282,\"chunkID\":\"00001\",\"sessionid\":\"\",\"portnum\":\"\",\"dockermode\":\"docker\",\"totalRowCount\":4,\"rowLimit\":0,\"columnMetadata\":[{\"columnName\":\"Run_ID\",\"columnTypeName\":\"INTEGER\"},{\"columnNumber\":1,\"columnName\":\"Site_ID\",\"columnTypeName\":\"VARCHAR\",\"length\":128,\"scale\":128},{\"columnNumber\":2,\"columnName\":\"Run_Type\",\"columnTypeName\":\"VARCHAR\",\"length\":128,\"scale\":128},{\"columnNumber\":3,\"columnName\":\"Run_Status\",\"columnTypeName\":\"VARCHAR\",\"length\":128,\"scale\":128},{\"columnNumber\":4,\"columnName\":\"Run_User\",\"columnTypeName\":\"VARCHAR\",\"length\":128,\"scale\":128},{\"columnNumber\":5,\"columnName\":\"Run_TS\",\"columnTypeName\":\"TIMESTAMP\"}]}"
     },
     "output_type": "execute_result"
    }
   ],
   "source": [
    "select * from adlste_coa.coa_audit_run\n",
    "where site_id = 'test'"
   ]
  },
  {
   "cell_type": "code",
   "execution_count": null,
   "metadata": {},
   "outputs": [],
   "source": []
  }
 ],
 "metadata": {
  "kernelspec": {
   "display_name": "Teradata SQL",
   "language": "Teradata SQL",
   "name": "teradatasql"
  },
  "language_info": {
   "codemirror_mode": "Teradata SQL",
   "file_extension": ".tdrs",
   "mimetype": "application/vnd.teradata.resultset",
   "name": "Teradata SQL",
   "nbconvert_exporter": "",
   "pygments_lexer": "",
   "version": "16.20"
  }
 },
 "nbformat": 4,
 "nbformat_minor": 2
}
