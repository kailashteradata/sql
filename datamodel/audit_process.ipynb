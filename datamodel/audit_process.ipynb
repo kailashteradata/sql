{
 "cells": [
  {
   "cell_type": "markdown",
   "metadata": {},
   "source": [
    "# Define Audit Process"
   ]
  },
  {
   "cell_type": "code",
   "execution_count": null,
   "metadata": {},
   "outputs": [],
   "source": [
    "%addconnect name=Transcend, user=sh186014, host=tdprdcop3.td.teradata.com, props=\"LOGMECH=LDAP\""
   ]
  },
  {
   "cell_type": "code",
   "execution_count": null,
   "metadata": {},
   "outputs": [],
   "source": [
    "%connect name=Transcend"
   ]
  },
  {
   "cell_type": "code",
   "execution_count": null,
   "metadata": {},
   "outputs": [],
   "source": [
    "call adlste_coa.sp_meta_objects_refresh('none');"
   ]
  },
  {
   "cell_type": "code",
   "execution_count": null,
   "metadata": {},
   "outputs": [],
   "source": [
    "Select * from adlste_coa.coa_meta_objects\n",
    "where ObjFunction  = 'audit' \n",
    "order by ObjType, ProcessName,  ObjType desc;"
   ]
  },
  {
   "cell_type": "markdown",
   "metadata": {},
   "source": [
    "<br/><br/><br/>\n",
    "## Audit_Run (sub-stored_procedure)\n",
    "### for tracking audit columns per row while minimizing storage\n",
    "- database:    adlste_coa\n",
    "- table:       coat_audit_run\n",
    "- view:        coa_audit_run\n",
    "- stored proc: sp_audit_run"
   ]
  },
  {
   "cell_type": "code",
   "execution_count": null,
   "metadata": {},
   "outputs": [],
   "source": [
    "drop table adlste_coa.coat_audit_runlog"
   ]
  },
  {
   "cell_type": "code",
   "execution_count": null,
   "metadata": {},
   "outputs": [],
   "source": [
    "Create multiset table adlste_coa.coat_audit_runlog\n",
    "(\n",
    " Run_ID       INTEGER \n",
    ",ParentRun_ID INTEGER\n",
    ",Site_ID      VARCHAR(128)\n",
    ",TableName    VARCHAR(128)\n",
    ",StartDate    DATE\n",
    ",EndDate      DATE\n",
    ",CallingSP    VARCHAR(128)\n",
    ",SQLVersion   VARCHAR(128)\n",
    ",Run_Type     VARCHAR(128)\n",
    ",Run_Status   VARCHAR(128)\n",
    ",Run_User     VARCHAR(128) Default USER\n",
    ",Run_TS       Timestamp(0) Default Current_Timestamp(0)\n",
    ") \n",
    "primary index (Site_ID, TableName);"
   ]
  },
  {
   "cell_type": "code",
   "execution_count": null,
   "metadata": {},
   "outputs": [],
   "source": [
    "replace view adlste_coa.coa_audit_runlog \n",
    "as locking row for access\n",
    "Select * from adlste_coa.coat_audit_runlog"
   ]
  },
  {
   "cell_type": "code",
   "execution_count": null,
   "metadata": {},
   "outputs": [],
   "source": [
    "replace PROCEDURE adlste_coa.sp_audit_log (inout runid integer\n",
    "                                              ,in siteid varchar(128)\n",
    "                                              ,in tblname varchar(128)\n",
    "                                              ,in callingsp varchar(128)\n",
    "                                              ,in sqlversion varchar(128)\n",
    "                                              ,in startdate date\n",
    "                                              ,in enddate date\n",
    "                                              ,in runtype varchar(128)\n",
    "                                              ,in runstatus varchar(128)\n",
    "                                              )\n",
    "SQL SECURITY CREATOR\n",
    "BEGIN\n",
    "DECLARE runidout INTEGER;\n",
    "\n",
    "    SELECT coalesce(Max(Run_ID)+1,1) as Run_ID   INTO runidout \n",
    "    FROM adlste_coa.coat_audit_runlog \n",
    "    ;\n",
    "    \n",
    "    Insert into adlste_coa.coat_audit_runlog \n",
    "    values\n",
    "    ( :runidout\n",
    "     ,:runid --parentrunid\n",
    "     ,:siteid\n",
    "     ,:tblname\n",
    "     ,:startdate\n",
    "     ,:enddate\n",
    "     ,:callingsp\n",
    "     ,:sqlversion\n",
    "     ,:runtype\n",
    "     ,:runstatus\n",
    "     ,USER \n",
    "     ,Current_Timestamp(0)\n",
    "    );\n",
    "    \n",
    "    SET runid = runidout ;\n",
    "\n",
    "END;"
   ]
  },
  {
   "cell_type": "code",
   "execution_count": null,
   "metadata": {},
   "outputs": [],
   "source": [
    "-- delete from adlste_coa.coat_audit_runlog -- don't do this"
   ]
  },
  {
   "cell_type": "markdown",
   "metadata": {},
   "source": [
    "### Example of some calls - designed to be embedded in other SPs"
   ]
  },
  {
   "cell_type": "code",
   "execution_count": null,
   "metadata": {},
   "outputs": [],
   "source": [
    "-- start SP()\n",
    "CALL adlste_coa.sp_audit_log(0\n",
    "                            ,'test_SiteID'  -- Site_ID\n",
    "                            ,'adlste_coa.coat_audit_run'  -- Table Name\n",
    "                            ,'adlste_coa.sp_test'  -- Calling SP\n",
    "                            ,'v1.15'  -- StoredProc Version\n",
    "                            ,DATE-7 -- Start Date\n",
    "                            ,DATE-1 -- End Date\n",
    "                            ,'Test Run'  -- Run Type\n",
    "                            ,'START' );  -- Run Status"
   ]
  },
  {
   "cell_type": "code",
   "execution_count": null,
   "metadata": {},
   "outputs": [],
   "source": [
    "-- do stuff, but need a checkpoint \n",
    "-- (number above becomes last parameter below)\n",
    "call adlste_coa.sp_audit_log(4\n",
    "                            ,'test_SiteID'  -- Site_ID\n",
    "                            ,'adlste_coa.coat_audit_run'  -- Table Name\n",
    "                            ,'adlste_coa.sp_test'  -- Calling SP\n",
    "                            ,'v1.15'  -- StoredProc Version\n",
    "                            ,DATE-7 -- Start Date\n",
    "                            ,DATE-1 -- End Date\n",
    "                            ,'Test Run'  -- Run Type\n",
    "                            ,'CHECKPOINT' );  -- Run Status"
   ]
  },
  {
   "cell_type": "code",
   "execution_count": null,
   "metadata": {},
   "outputs": [],
   "source": [
    "-- end of SP()\n",
    "-- (number above becomes last parameter below)\n",
    "call adlste_coa.sp_audit_log(4\n",
    "                            ,'test_SiteID'  -- Site_ID\n",
    "                            ,'adlste_coa.coat_audit_run'  -- Table Name\n",
    "                            ,'adlste_coa.sp_test'  -- Calling SP\n",
    "                            ,'v1.15'  -- StoredProc Version\n",
    "                            ,DATE-7 -- Start Date\n",
    "                            ,DATE-1 -- End Date\n",
    "                            ,'Test Run'  -- Run Type\n",
    "                            ,'END'); -- Run Status"
   ]
  },
  {
   "cell_type": "code",
   "execution_count": null,
   "metadata": {},
   "outputs": [],
   "source": [
    "Select * from adlste_coa.coat_audit_runlog"
   ]
  },
  {
   "cell_type": "code",
   "execution_count": null,
   "metadata": {},
   "outputs": [],
   "source": [
    "replace view adlste_coa.coa_audit_summary   as locking row for access\n",
    "Select \n",
    " case when ParentRun_ID=0 then Run_ID else ParentRun_ID end as Run_ID\n",
    ",Site_ID\n",
    ",min(cast(Run_TS as DATE)) as LogDate\n",
    ",TableName\n",
    ",CallingSP\n",
    ",SQLVersion\n",
    ",Run_Type\n",
    ",count(*) as Steps\n",
    ",sum(case when Run_Status='ERROR' then 1 else 0 end) as Errors\n",
    ",sum(case when Run_Status='WARNING' then 1 else 0 end) as Warnings\n",
    ",min(case when Run_Status='START' then Run_TS else NULL end) as Start_TS\n",
    ",max(case when Run_Status='END' then Run_TS else NULL end) as End_TS\n",
    "from adlste_coa.coa_audit_runlog\n",
    "Group by 1,2,4,5,6,7"
   ]
  },
  {
   "cell_type": "code",
   "execution_count": null,
   "metadata": {},
   "outputs": [],
   "source": [
    "select * from adlste_coa.coa_audit_summary order by 1"
   ]
  },
  {
   "cell_type": "code",
   "execution_count": null,
   "metadata": {},
   "outputs": [],
   "source": []
  }
 ],
 "metadata": {
  "kernelspec": {
   "display_name": "Teradata SQL",
   "language": "Teradata SQL",
   "name": "teradatasql"
  },
  "language_info": {
   "codemirror_mode": "Teradata SQL",
   "file_extension": ".tdrs",
   "mimetype": "application/vnd.teradata.resultset",
   "name": "Teradata SQL",
   "nbconvert_exporter": "",
   "pygments_lexer": "",
   "version": "16.20"
  }
 },
 "nbformat": 4,
 "nbformat_minor": 2
}
